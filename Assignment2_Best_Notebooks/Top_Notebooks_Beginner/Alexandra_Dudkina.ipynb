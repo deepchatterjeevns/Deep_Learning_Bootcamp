{
 "cells": [
  {
   "cell_type": "code",
   "execution_count": null,
   "metadata": {
    "colab": {
     "base_uri": "https://localhost:8080/",
     "height": 68
    },
    "colab_type": "code",
    "id": "cdxqR0CP0pI-",
    "outputId": "3de231f6-d987-4f97-d7de-7f01a4486659"
   },
   "outputs": [
    {
     "name": "stdout",
     "output_type": "stream",
     "text": [
      "The tensorboard extension is already loaded. To reload it, use:\n",
      "  %reload_ext tensorboard\n",
      "2.3.0\n"
     ]
    }
   ],
   "source": [
    "# TensorFlow and tf.keras\n",
    "import tensorflow as tf\n",
    "from tensorflow import keras\n",
    "from tensorflow.keras.models import Sequential\n",
    "from tensorflow.keras.layers import Dense, Dropout,Flatten\n",
    "from tensorflow.keras.optimizers import Adam\n",
    "from tensorflow.keras.losses import SparseCategoricalCrossentropy\n",
    "from tensorflow.keras.callbacks import TensorBoard,EarlyStopping\n",
    "%load_ext tensorboard\n",
    "\n",
    "# Helper libraries\n",
    "import pandas as pd\n",
    "import numpy as np\n",
    "import random\n",
    "import matplotlib.pyplot as plt\n",
    "import datetime\n",
    "import pathlib\n",
    "import os\n",
    "import sys\n",
    "\n",
    "print(tf.__version__)"
   ]
  },
  {
   "cell_type": "code",
   "execution_count": null,
   "metadata": {
    "colab": {},
    "colab_type": "code",
    "id": "t6VL8_1W0vZa"
   },
   "outputs": [],
   "source": [
    "# set the seed\n",
    "from numpy.random import seed\n",
    "seed(1)"
   ]
  },
  {
   "cell_type": "code",
   "execution_count": null,
   "metadata": {
    "colab": {},
    "colab_type": "code",
    "id": "yszQ1D530wKW"
   },
   "outputs": [],
   "source": [
    "# declare constants\n",
    "IMG_WIDTH = 300\n",
    "IMG_HEIGHT = 200\n",
    "IMG_CHANNELS = 3\n",
    "IMG_SHAPE = (IMG_HEIGHT, IMG_WIDTH, IMG_CHANNELS)\n",
    "BATCH_SIZE = 32\n",
    "AUTOTUNE = tf.data.experimental.AUTOTUNE"
   ]
  },
  {
   "cell_type": "code",
   "execution_count": null,
   "metadata": {
    "colab": {
     "base_uri": "https://localhost:8080/",
     "height": 51
    },
    "colab_type": "code",
    "id": "H15NmUUW0wnl",
    "outputId": "ca06b5b0-80f9-439a-e744-69010e5c1fb2"
   },
   "outputs": [
    {
     "name": "stdout",
     "output_type": "stream",
     "text": [
      "Data directory: /root/.keras/datasets/train_beg\n",
      "Images loaded: 1200\n"
     ]
    }
   ],
   "source": [
    "# load zip file with images for training set\n",
    "ts_url = 'https://github.com/dphi-official/Datasets/raw/master/animal_data/train_beg.zip'\n",
    "data_dir = tf.keras.utils.get_file(origin=ts_url, fname='ts', extract=True)\n",
    "data_dir = pathlib.Path('/root/.keras/datasets/ts'.replace('/ts', '/train_beg'))\n",
    "print('Data directory: ' + str(data_dir))\n",
    "\n",
    "image_count = len(list(data_dir.glob('**/*.jpg')))\n",
    "print('Images loaded: ' + str(image_count))"
   ]
  },
  {
   "cell_type": "code",
   "execution_count": null,
   "metadata": {
    "colab": {
     "base_uri": "https://localhost:8080/",
     "height": 51
    },
    "colab_type": "code",
    "id": "opw9_5tz1mk1",
    "outputId": "93dbf98f-5aa0-4afe-c64f-31b60e912f19"
   },
   "outputs": [
    {
     "name": "stdout",
     "output_type": "stream",
     "text": [
      "Data directory for testing set: /root/.keras/datasets/test_beg\n",
      "Images loaded: 400\n"
     ]
    }
   ],
   "source": [
    "# load zip file with images for testing set\n",
    "test_set_url = 'https://github.com/dphi-official/Datasets/raw/master/animal_data/test_beg.zip'\n",
    "test_data_dir = tf.keras.utils.get_file(origin=test_set_url, fname='test', extract=True)\n",
    "test_data_dir = pathlib.Path('/root/.keras/datasets/test'.replace('/test', '/test_beg'))\n",
    "print('Data directory for testing set: ' + str(test_data_dir))\n",
    "\n",
    "# count loaded images\n",
    "test_image_count = len(list(test_data_dir.glob('**/*.jpg')))\n",
    "print('Images loaded: ' + str(test_image_count))\n",
    "\n",
    "# load files to tf dataset\n",
    "test_list_ds = tf.data.Dataset.list_files(str(test_data_dir/'*.jpg'), shuffle=False)\n",
    "\n",
    "# reads image\n",
    "def get_img(file_path):\n",
    "  img = tf.io.read_file(file_path)\n",
    "  img = tf.image.decode_jpeg(img, channels=IMG_CHANNELS)\n",
    "  img = tf.image.convert_image_dtype(img, tf.float32)\n",
    "  return tf.image.resize(img, [IMG_HEIGHT, IMG_WIDTH])\n",
    "\n",
    "test_ds = test_list_ds.map(get_img)\n",
    "test_ds = test_ds.cache().batch(BATCH_SIZE).prefetch(buffer_size=AUTOTUNE)"
   ]
  },
  {
   "cell_type": "code",
   "execution_count": null,
   "metadata": {
    "colab": {
     "base_uri": "https://localhost:8080/",
     "height": 34
    },
    "colab_type": "code",
    "id": "hdaRN_P50w82",
    "outputId": "0084b5f8-fb9d-4fe3-f860-79ee948eea4f"
   },
   "outputs": [
    {
     "name": "stdout",
     "output_type": "stream",
     "text": [
      "Class names: ['mucca' 'pecora']\n"
     ]
    }
   ],
   "source": [
    "# load csv file for training set, read class names\n",
    "ts = pd.read_csv(\"https://raw.githubusercontent.com/dphi-official/Datasets/master/animal_data/Training_set_animals.csv\")\n",
    "class_names = np.unique(np.array(ts['animal_type'].values))\n",
    "print('Class names: ' + str(class_names))"
   ]
  },
  {
   "cell_type": "code",
   "execution_count": null,
   "metadata": {
    "colab": {},
    "colab_type": "code",
    "id": "NDfM7FMS0xbw"
   },
   "outputs": [],
   "source": [
    "# prepare map containing file names as keys and class names as values\n",
    "# source: https://stackoverflow.com/a/55995756/2792888\n",
    "class_names_table = tf.lookup.StaticHashTable(\n",
    "    initializer = tf.lookup.KeyValueTensorInitializer(\n",
    "        keys = tf.constant(ts['filename'].values),\n",
    "        values = tf.constant(ts['animal_type'].values),\n",
    "    ),\n",
    "    default_value = tf.constant('unknown'),\n",
    "    name = \"class_name\"\n",
    ")"
   ]
  },
  {
   "cell_type": "code",
   "execution_count": null,
   "metadata": {
    "colab": {},
    "colab_type": "code",
    "id": "koimEjQ_IpLD"
   },
   "outputs": [],
   "source": [
    "# prepare map for filtering out some bad images\n",
    "invalid_images_table = tf.lookup.StaticHashTable(\n",
    "    initializer = tf.lookup.KeyValueTensorInitializer(\n",
    "        keys = tf.constant([\n",
    "          'Image_63.jpg',  # moskito?\n",
    "          'Image_140.jpg', # kittens\n",
    "          'Image_183.jpg', # mother and daughter\n",
    "          'Image_343.jpg', # wedding foto\n",
    "          'Image_352.jpg', # squirrel\n",
    "          'Image_502.jpg', # horse\n",
    "          'Image_538.jpg', # pig\n",
    "          'Image_569.jpg', # children in class\n",
    "          'Image_621.jpg', # zebra?\n",
    "          'Image_778.jpg', # donkey?\n",
    "          'Image_886.jpg', # alpaca?\n",
    "          'Image_904.jpg', # car under snow\n",
    "          'Image_942.jpg', # dog\n",
    "          'Image_943.jpg'  # village\n",
    "        ]),\n",
    "        values = tf.constant([False] * 14),\n",
    "    ),\n",
    "    default_value = tf.constant(True),\n",
    "    name = \"invalid_img\"\n",
    ")\n",
    "\n",
    "def filter_img(f):\n",
    "  return invalid_images_table.lookup(tf.strings.split(f, os.path.sep)[-1])"
   ]
  },
  {
   "cell_type": "code",
   "execution_count": null,
   "metadata": {
    "colab": {
     "base_uri": "https://localhost:8080/",
     "height": 136
    },
    "colab_type": "code",
    "id": "3CiFDpRs0xwp",
    "outputId": "ccee66c7-26ef-4aeb-cdff-2781ed04e424"
   },
   "outputs": [
    {
     "name": "stdout",
     "output_type": "stream",
     "text": [
      "\n",
      "First 5 file names: \n",
      "b'/root/.keras/datasets/train_beg/Image_62.jpg'\n",
      "b'/root/.keras/datasets/train_beg/Image_1095.jpg'\n",
      "b'/root/.keras/datasets/train_beg/Image_475.jpg'\n",
      "b'/root/.keras/datasets/train_beg/Image_692.jpg'\n",
      "b'/root/.keras/datasets/train_beg/Image_867.jpg'\n"
     ]
    }
   ],
   "source": [
    "# load files to tensorflow dataset\n",
    "# source: https://www.tensorflow.org/tutorials/load_data/images#using_tfdata_for_finer_control\n",
    "list_ds = tf.data.Dataset.list_files(str(data_dir/'*.jpg'), shuffle=False)\n",
    "list_ds = list_ds.filter(filter_img)\n",
    "list_ds = list_ds.shuffle(image_count, reshuffle_each_iteration=False)\n",
    "\n",
    "print('\\nFirst 5 file names: ')\n",
    "for f in list_ds.take(5):\n",
    "  print(f.numpy())"
   ]
  },
  {
   "cell_type": "code",
   "execution_count": null,
   "metadata": {
    "colab": {},
    "colab_type": "code",
    "id": "qCbj_N2a0yIE"
   },
   "outputs": [],
   "source": [
    "# prepare train / validation datasets\n",
    "val_size = int(image_count * 0.2)\n",
    "train_ds = list_ds.skip(val_size)\n",
    "val_ds = list_ds.take(val_size)"
   ]
  },
  {
   "cell_type": "code",
   "execution_count": null,
   "metadata": {
    "colab": {},
    "colab_type": "code",
    "id": "d_-YVeOF00G_"
   },
   "outputs": [],
   "source": [
    "# retrieves classname by filename\n",
    "def get_label(file_path):\n",
    "  parts = tf.strings.split(file_path, os.path.sep)\n",
    "  classname = class_names_table.lookup(parts[-1])\n",
    "  return 0 if classname == 'mucca' else 1\n",
    "\n",
    "# decodes image\n",
    "def decode_img(img):\n",
    "  img = tf.image.decode_jpeg(img, channels=IMG_CHANNELS)\n",
    "  img = tf.image.convert_image_dtype(img, tf.float32)\n",
    "  return tf.image.resize(img, [IMG_HEIGHT, IMG_WIDTH])\n",
    "\n",
    "# retrieves (image, label) tuple by file path\n",
    "def process_path(file_path):\n",
    "  label = get_label(file_path)\n",
    "  img = tf.io.read_file(file_path)\n",
    "  img = decode_img(img)\n",
    "  return img, label"
   ]
  },
  {
   "cell_type": "code",
   "execution_count": null,
   "metadata": {
    "colab": {},
    "colab_type": "code",
    "id": "vw27MkeC0zzm"
   },
   "outputs": [],
   "source": [
    "# map tf datasets to list of tuples (image, label)\n",
    "train_ds = train_ds.map(process_path, num_parallel_calls=AUTOTUNE)\n",
    "val_ds = val_ds.map(process_path, num_parallel_calls=AUTOTUNE)\n"
   ]
  },
  {
   "cell_type": "code",
   "execution_count": null,
   "metadata": {
    "colab": {
     "base_uri": "https://localhost:8080/",
     "height": 51
    },
    "colab_type": "code",
    "id": "06c3hkiT0ztU",
    "outputId": "800c597f-9342-4f0b-980a-9de730da6c60"
   },
   "outputs": [
    {
     "name": "stdout",
     "output_type": "stream",
     "text": [
      "Image shape:  (200, 300, 3)\n",
      "Label:  1\n"
     ]
    }
   ],
   "source": [
    "for image, label in train_ds.take(1):\n",
    "  print(\"Image shape: \", image.numpy().shape)\n",
    "  print(\"Label: \", label.numpy())"
   ]
  },
  {
   "cell_type": "code",
   "execution_count": null,
   "metadata": {
    "colab": {},
    "colab_type": "code",
    "id": "GfYM8AiF0zmW"
   },
   "outputs": [],
   "source": [
    "# add images caching\n",
    "def configure_for_performance(ds):\n",
    "  ds = ds.cache()\n",
    "  ds = ds.shuffle(buffer_size=1000)\n",
    "  ds = ds.batch(BATCH_SIZE)\n",
    "  ds = ds.prefetch(buffer_size=AUTOTUNE)\n",
    "  return ds\n",
    "\n",
    "train_ds = configure_for_performance(train_ds)\n",
    "val_ds = configure_for_performance(val_ds)"
   ]
  },
  {
   "cell_type": "code",
   "execution_count": null,
   "metadata": {
    "colab": {
     "base_uri": "https://localhost:8080/",
     "height": 591
    },
    "colab_type": "code",
    "id": "V9Y_xLVg0zep",
    "outputId": "70fc8fb4-d81f-4e2b-f17c-71fbe7802cb9"
   },
   "outputs": [],
   "source": [
    "# output sample images\n",
    "image_batch, label_batch = next(iter(train_ds))\n",
    "\n",
    "plt.figure(figsize=(20, 10))\n",
    "for i in range(9):\n",
    "  ax = plt.subplot(3, 3, i + 1)\n",
    "  plt.imshow(image_batch[i].numpy())\n",
    "  label = label_batch[i]\n",
    "  label = class_names[label]\n",
    "  plt.title(label)\n",
    "  plt.axis(\"off\")"
   ]
  },
  {
   "cell_type": "code",
   "execution_count": null,
   "metadata": {
    "colab": {
     "base_uri": "https://localhost:8080/",
     "height": 683
    },
    "colab_type": "code",
    "id": "f3gtIuJ20zVb",
    "outputId": "c1a7e0c8-1f60-434b-e5de-2f983c02c3d7"
   },
   "outputs": [
    {
     "name": "stdout",
     "output_type": "stream",
     "text": [
      "Epoch 1/20\n",
      "30/30 [==============================] - 563s 19s/step - loss: 0.6818 - accuracy: 0.6332 - val_loss: 0.5725 - val_accuracy: 0.7333\n",
      "Epoch 2/20\n",
      "30/30 [==============================] - 556s 19s/step - loss: 0.4649 - accuracy: 0.7854 - val_loss: 0.4257 - val_accuracy: 0.8250\n",
      "Epoch 3/20\n",
      "30/30 [==============================] - 556s 19s/step - loss: 0.3427 - accuracy: 0.8753 - val_loss: 0.3336 - val_accuracy: 0.8792\n",
      "Epoch 4/20\n",
      "30/30 [==============================] - 556s 19s/step - loss: 0.2665 - accuracy: 0.9070 - val_loss: 0.2839 - val_accuracy: 0.9042\n",
      "Epoch 5/20\n",
      "30/30 [==============================] - 557s 19s/step - loss: 0.2179 - accuracy: 0.9345 - val_loss: 0.2279 - val_accuracy: 0.9333\n",
      "Epoch 6/20\n",
      "30/30 [==============================] - 556s 19s/step - loss: 0.1844 - accuracy: 0.9514 - val_loss: 0.1973 - val_accuracy: 0.9375\n",
      "Epoch 7/20\n",
      "30/30 [==============================] - 556s 19s/step - loss: 0.1629 - accuracy: 0.9493 - val_loss: 0.1797 - val_accuracy: 0.9458\n",
      "Epoch 8/20\n",
      "30/30 [==============================] - 556s 19s/step - loss: 0.1466 - accuracy: 0.9567 - val_loss: 0.1735 - val_accuracy: 0.9417\n",
      "Epoch 9/20\n",
      "30/30 [==============================] - 558s 19s/step - loss: 0.1342 - accuracy: 0.9609 - val_loss: 0.1551 - val_accuracy: 0.9500\n",
      "Epoch 10/20\n",
      "30/30 [==============================] - 558s 19s/step - loss: 0.1244 - accuracy: 0.9630 - val_loss: 0.1465 - val_accuracy: 0.9542\n",
      "Epoch 11/20\n",
      "30/30 [==============================] - 557s 19s/step - loss: 0.1162 - accuracy: 0.9651 - val_loss: 0.1426 - val_accuracy: 0.9542\n",
      "Epoch 12/20\n",
      "30/30 [==============================] - 557s 19s/step - loss: 0.1092 - accuracy: 0.9693 - val_loss: 0.1380 - val_accuracy: 0.9500\n",
      "Epoch 13/20\n",
      "30/30 [==============================] - 557s 19s/step - loss: 0.1038 - accuracy: 0.9693 - val_loss: 0.1262 - val_accuracy: 0.9458\n",
      "Epoch 14/20\n",
      "30/30 [==============================] - 555s 18s/step - loss: 0.0991 - accuracy: 0.9757 - val_loss: 0.1227 - val_accuracy: 0.9458\n",
      "Epoch 15/20\n",
      "30/30 [==============================] - 553s 18s/step - loss: 0.0946 - accuracy: 0.9736 - val_loss: 0.1255 - val_accuracy: 0.9542\n",
      "Epoch 16/20\n",
      "30/30 [==============================] - 555s 19s/step - loss: 0.0903 - accuracy: 0.9757 - val_loss: 0.1220 - val_accuracy: 0.9542\n",
      "Epoch 17/20\n",
      "30/30 [==============================] - 553s 18s/step - loss: 0.0868 - accuracy: 0.9767 - val_loss: 0.1193 - val_accuracy: 0.9542\n",
      "Epoch 18/20\n",
      "30/30 [==============================] - 553s 18s/step - loss: 0.0829 - accuracy: 0.9799 - val_loss: 0.1206 - val_accuracy: 0.9583\n",
      "Epoch 19/20\n",
      "30/30 [==============================] - 551s 18s/step - loss: 0.0797 - accuracy: 0.9789 - val_loss: 0.1114 - val_accuracy: 0.9542\n",
      "Epoch 20/20\n",
      "30/30 [==============================] - 553s 18s/step - loss: 0.0767 - accuracy: 0.9841 - val_loss: 0.1089 - val_accuracy: 0.9625\n"
     ]
    }
   ],
   "source": [
    "# use pretrained neural net\n",
    "# source: https://rubikscode.net/2019/11/11/transfer-learning-with-tensorflow-2/\n",
    "resnet_base = tf.keras.applications.ResNet152V2(input_shape=IMG_SHAPE, include_top=False, weights='imagenet')\n",
    "\n",
    "BASE_LEARNING_RATE = 0.0001\n",
    "EPOCHS = 20\n",
    "\n",
    "# wrapper class extending keras model\n",
    "class Wrapper(tf.keras.Model):\n",
    "\n",
    "    # in constructor we provide layer structure \n",
    "    def __init__(self, base_model):\n",
    "        super(Wrapper, self).__init__()\n",
    "        self.random_flip = tf.keras.layers.experimental.preprocessing.RandomFlip(\"horizontal\")\n",
    "        self.base_model = base_model\n",
    "        self.average_pooling_layer = tf.keras.layers.GlobalAveragePooling2D()\n",
    "        self.output_layer = tf.keras.layers.Dense(2, activation='softmax')\n",
    "\n",
    "    # layers are invoked in same order as declared  \n",
    "    def call(self, inputs):\n",
    "        x = self.random_flip(inputs)\n",
    "        x = self.base_model(inputs)\n",
    "        x = self.average_pooling_layer(x)\n",
    "        output = self.output_layer(x)\n",
    "        return output\n",
    "\n",
    "resnet_base.trainable = False\n",
    "resnet = Wrapper(resnet_base)\n",
    "\n",
    "resnet.compile(\n",
    "    optimizer=tf.keras.optimizers.RMSprop(lr=BASE_LEARNING_RATE),\n",
    "    loss=tf.losses.SparseCategoricalCrossentropy(from_logits=False),\n",
    "    metrics=['accuracy']\n",
    ")\n",
    "\n",
    "history = resnet.fit(\n",
    "    train_ds,\n",
    "    epochs=EPOCHS,\n",
    "    validation_data=val_ds\n",
    ")"
   ]
  },
  {
   "cell_type": "code",
   "execution_count": null,
   "metadata": {
    "colab": {
     "base_uri": "https://localhost:8080/",
     "height": 283
    },
    "colab_type": "code",
    "id": "_Ki4F9xuH2s4",
    "outputId": "28ca8e4e-4238-4590-88ad-e4d19b8be3c7"
   },
   "outputs": [
    {
     "name": "stdout",
     "output_type": "stream",
     "text": [
      "Model: \"wrapper_5\"\n",
      "_________________________________________________________________\n",
      "Layer (type)                 Output Shape              Param #   \n",
      "=================================================================\n",
      "random_flip_5 (RandomFlip)   multiple                  0         \n",
      "_________________________________________________________________\n",
      "resnet152v2 (Functional)     (None, 7, 10, 2048)       58331648  \n",
      "_________________________________________________________________\n",
      "global_average_pooling2d_5 ( multiple                  0         \n",
      "_________________________________________________________________\n",
      "dense_5 (Dense)              multiple                  4098      \n",
      "=================================================================\n",
      "Total params: 58,335,746\n",
      "Trainable params: 4,098\n",
      "Non-trainable params: 58,331,648\n",
      "_________________________________________________________________\n"
     ]
    }
   ],
   "source": [
    "# output model summary\n",
    "resnet.summary()"
   ]
  },
  {
   "cell_type": "code",
   "execution_count": null,
   "metadata": {
    "colab": {
     "base_uri": "https://localhost:8080/",
     "height": 499
    },
    "colab_type": "code",
    "id": "TyYtYXXZ0yug",
    "outputId": "6d73ce18-7f2e-4604-a8a0-00c8b50b5923"
   },
   "outputs": [
    {
     "data": {
      "image/png": "[encoded data removed]",
      "text/plain": [
       "<Figure size 576x576 with 2 Axes>"
      ]
     },
     "metadata": {
      "needs_background": "light",
      "tags": []
     },
     "output_type": "display_data"
    }
   ],
   "source": [
    "# output training / validation accuracy and loss\n",
    "acc = history.history['accuracy']\n",
    "val_acc = history.history['val_accuracy']\n",
    "\n",
    "loss=history.history['loss']\n",
    "val_loss=history.history['val_loss']\n",
    "\n",
    "epochs_range = range(EPOCHS)\n",
    "\n",
    "plt.figure(figsize=(8, 8))\n",
    "plt.subplot(1, 2, 1)\n",
    "plt.plot(epochs_range, acc, label='Training Accuracy')\n",
    "plt.plot(epochs_range, val_acc, label='Validation Accuracy')\n",
    "plt.legend(loc='lower right')\n",
    "plt.title('Training and Validation Accuracy')\n",
    "\n",
    "plt.subplot(1, 2, 2)\n",
    "plt.plot(epochs_range, loss, label='Training Loss')\n",
    "plt.plot(epochs_range, val_loss, label='Validation Loss')\n",
    "plt.legend(loc='upper right')\n",
    "plt.title('Training and Validation Loss')\n",
    "plt.show()"
   ]
  },
  {
   "cell_type": "code",
   "execution_count": null,
   "metadata": {
    "colab": {},
    "colab_type": "code",
    "id": "sDF1ZG9u3SiD"
   },
   "outputs": [],
   "source": [
    "# predict animal names using trained model\n",
    "predictions = []\n",
    "\n",
    "for test_images in test_ds:\n",
    "  f = lambda p: np.argmax(p)\n",
    "\n",
    "  prediction_batch = resnet.predict(test_images)\n",
    "  for prediction in prediction_batch:\n",
    "      predictions.append(class_names[f(prediction)])"
   ]
  },
  {
   "cell_type": "code",
   "execution_count": null,
   "metadata": {
    "colab": {
     "base_uri": "https://localhost:8080/",
     "height": 591
    },
    "colab_type": "code",
    "id": "xgwZxK_-3SEd",
    "outputId": "940e5cea-6046-4be9-c75f-2ac5981db05c"
   },
   "outputs": [],
   "source": [
    "# output prediction samples\n",
    "image_batch = next(iter(test_ds))\n",
    "\n",
    "plt.figure(figsize=(20, 10))\n",
    "for i in range(9):\n",
    "  ax = plt.subplot(3, 3, i + 1)\n",
    "  plt.imshow(image_batch[i])\n",
    "  plt.title(predictions[i])\n",
    "  plt.axis(\"off\")"
   ]
  },
  {
   "cell_type": "code",
   "execution_count": null,
   "metadata": {
    "colab": {
     "base_uri": "https://localhost:8080/",
     "height": 70
    },
    "colab_type": "code",
    "id": "eWIEKxms3R3J",
    "outputId": "72ad9c3e-7a38-405c-9289-1d672614d845"
   },
   "outputs": [
    {
     "name": "stdout",
     "output_type": "stream",
     "text": [
      "{'/root/.keras/datasets/test_beg/Image_1.jpg': 'pecora', '/root/.keras/datasets/test_beg/Image_10.jpg': 'pecora', '/root/.keras/datasets/test_beg/Image_100.jpg': 'pecora', '/root/.keras/datasets/test_beg/Image_101.jpg': 'mucca', '/root/.keras/datasets/test_beg/Image_102.jpg': 'pecora', '/root/.keras/datasets/test_beg/Image_103.jpg': 'pecora', '/root/.keras/datasets/test_beg/Image_104.jpg': 'pecora', '/root/.keras/datasets/test_beg/Image_105.jpg': 'pecora', '/root/.keras/datasets/test_beg/Image_106.jpg': 'pecora', '/root/.keras/datasets/test_beg/Image_107.jpg': 'mucca', '/root/.keras/datasets/test_beg/Image_108.jpg': 'mucca', '/root/.keras/datasets/test_beg/Image_109.jpg': 'mucca', '/root/.keras/datasets/test_beg/Image_11.jpg': 'mucca', '/root/.keras/datasets/test_beg/Image_110.jpg': 'pecora', '/root/.keras/datasets/test_beg/Image_111.jpg': 'pecora', '/root/.keras/datasets/test_beg/Image_112.jpg': 'pecora', '/root/.keras/datasets/test_beg/Image_113.jpg': 'mucca', '/root/.keras/datasets/test_beg/Image_114.jpg': 'pecora', '/root/.keras/datasets/test_beg/Image_115.jpg': 'mucca', '/root/.keras/datasets/test_beg/Image_116.jpg': 'pecora', '/root/.keras/datasets/test_beg/Image_117.jpg': 'pecora', '/root/.keras/datasets/test_beg/Image_118.jpg': 'mucca', '/root/.keras/datasets/test_beg/Image_119.jpg': 'mucca', '/root/.keras/datasets/test_beg/Image_12.jpg': 'mucca', '/root/.keras/datasets/test_beg/Image_120.jpg': 'mucca', '/root/.keras/datasets/test_beg/Image_121.jpg': 'mucca', '/root/.keras/datasets/test_beg/Image_122.jpg': 'mucca', '/root/.keras/datasets/test_beg/Image_123.jpg': 'pecora', '/root/.keras/datasets/test_beg/Image_124.jpg': 'mucca', '/root/.keras/datasets/test_beg/Image_125.jpg': 'mucca', '/root/.keras/datasets/test_beg/Image_126.jpg': 'pecora', '/root/.keras/datasets/test_beg/Image_127.jpg': 'mucca', '/root/.keras/datasets/test_beg/Image_128.jpg': 'pecora', '/root/.keras/datasets/test_beg/Image_129.jpg': 'mucca', '/root/.keras/datasets/test_beg/Image_13.jpg': 'pecora', '/root/.keras/datasets/test_beg/Image_130.jpg': 'pecora', '/root/.keras/datasets/test_beg/Image_131.jpg': 'mucca', '/root/.keras/datasets/test_beg/Image_132.jpg': 'mucca', '/root/.keras/datasets/test_beg/Image_133.jpg': 'mucca', '/root/.keras/datasets/test_beg/Image_134.jpg': 'mucca', '/root/.keras/datasets/test_beg/Image_135.jpg': 'mucca', '/root/.keras/datasets/test_beg/Image_136.jpg': 'pecora', '/root/.keras/datasets/test_beg/Image_137.jpg': 'mucca', '/root/.keras/datasets/test_beg/Image_138.jpg': 'mucca', '/root/.keras/datasets/test_beg/Image_139.jpg': 'mucca', '/root/.keras/datasets/test_beg/Image_14.jpg': 'mucca', '/root/.keras/datasets/test_beg/Image_140.jpg': 'pecora', '/root/.keras/datasets/test_beg/Image_141.jpg': 'mucca', '/root/.keras/datasets/test_beg/Image_142.jpg': 'pecora', '/root/.keras/datasets/test_beg/Image_143.jpg': 'mucca', '/root/.keras/datasets/test_beg/Image_144.jpg': 'pecora', '/root/.keras/datasets/test_beg/Image_145.jpg': 'pecora', '/root/.keras/datasets/test_beg/Image_146.jpg': 'pecora', '/root/.keras/datasets/test_beg/Image_147.jpg': 'pecora', '/root/.keras/datasets/test_beg/Image_148.jpg': 'pecora', '/root/.keras/datasets/test_beg/Image_149.jpg': 'pecora', '/root/.keras/datasets/test_beg/Image_15.jpg': 'pecora', '/root/.keras/datasets/test_beg/Image_150.jpg': 'mucca', '/root/.keras/datasets/test_beg/Image_151.jpg': 'pecora', '/root/.keras/datasets/test_beg/Image_152.jpg': 'pecora', '/root/.keras/datasets/test_beg/Image_153.jpg': 'pecora', '/root/.keras/datasets/test_beg/Image_154.jpg': 'mucca', '/root/.keras/datasets/test_beg/Image_155.jpg': 'pecora', '/root/.keras/datasets/test_beg/Image_156.jpg': 'mucca', '/root/.keras/datasets/test_beg/Image_157.jpg': 'pecora', '/root/.keras/datasets/test_beg/Image_158.jpg': 'pecora', '/root/.keras/datasets/test_beg/Image_159.jpg': 'pecora', '/root/.keras/datasets/test_beg/Image_16.jpg': 'pecora', '/root/.keras/datasets/test_beg/Image_160.jpg': 'pecora', '/root/.keras/datasets/test_beg/Image_161.jpg': 'mucca', '/root/.keras/datasets/test_beg/Image_162.jpg': 'pecora', '/root/.keras/datasets/test_beg/Image_163.jpg': 'pecora', '/root/.keras/datasets/test_beg/Image_164.jpg': 'mucca', '/root/.keras/datasets/test_beg/Image_165.jpg': 'mucca', '/root/.keras/datasets/test_beg/Image_166.jpg': 'pecora', '/root/.keras/datasets/test_beg/Image_167.jpg': 'pecora', '/root/.keras/datasets/test_beg/Image_168.jpg': 'pecora', '/root/.keras/datasets/test_beg/Image_169.jpg': 'pecora', '/root/.keras/datasets/test_beg/Image_17.jpg': 'mucca', '/root/.keras/datasets/test_beg/Image_170.jpg': 'mucca', '/root/.keras/datasets/test_beg/Image_171.jpg': 'mucca', '/root/.keras/datasets/test_beg/Image_172.jpg': 'mucca', '/root/.keras/datasets/test_beg/Image_173.jpg': 'pecora', '/root/.keras/datasets/test_beg/Image_174.jpg': 'mucca', '/root/.keras/datasets/test_beg/Image_175.jpg': 'mucca', '/root/.keras/datasets/test_beg/Image_176.jpg': 'pecora', '/root/.keras/datasets/test_beg/Image_177.jpg': 'pecora', '/root/.keras/datasets/test_beg/Image_178.jpg': 'mucca', '/root/.keras/datasets/test_beg/Image_179.jpg': 'mucca', '/root/.keras/datasets/test_beg/Image_18.jpg': 'pecora', '/root/.keras/datasets/test_beg/Image_180.jpg': 'mucca', '/root/.keras/datasets/test_beg/Image_181.jpg': 'pecora', '/root/.keras/datasets/test_beg/Image_182.jpg': 'mucca', '/root/.keras/datasets/test_beg/Image_183.jpg': 'pecora', '/root/.keras/datasets/test_beg/Image_184.jpg': 'mucca', '/root/.keras/datasets/test_beg/Image_185.jpg': 'pecora', '/root/.keras/datasets/test_beg/Image_186.jpg': 'mucca', '/root/.keras/datasets/test_beg/Image_187.jpg': 'mucca', '/root/.keras/datasets/test_beg/Image_188.jpg': 'mucca', '/root/.keras/datasets/test_beg/Image_189.jpg': 'mucca', '/root/.keras/datasets/test_beg/Image_19.jpg': 'pecora', '/root/.keras/datasets/test_beg/Image_190.jpg': 'mucca', '/root/.keras/datasets/test_beg/Image_191.jpg': 'mucca', '/root/.keras/datasets/test_beg/Image_192.jpg': 'mucca', '/root/.keras/datasets/test_beg/Image_193.jpg': 'mucca', '/root/.keras/datasets/test_beg/Image_194.jpg': 'pecora', '/root/.keras/datasets/test_beg/Image_195.jpg': 'pecora', '/root/.keras/datasets/test_beg/Image_196.jpg': 'pecora', '/root/.keras/datasets/test_beg/Image_197.jpg': 'mucca', '/root/.keras/datasets/test_beg/Image_198.jpg': 'mucca', '/root/.keras/datasets/test_beg/Image_199.jpg': 'mucca', '/root/.keras/datasets/test_beg/Image_2.jpg': 'pecora', '/root/.keras/datasets/test_beg/Image_20.jpg': 'pecora', '/root/.keras/datasets/test_beg/Image_200.jpg': 'mucca', '/root/.keras/datasets/test_beg/Image_201.jpg': 'mucca', '/root/.keras/datasets/test_beg/Image_202.jpg': 'mucca', '/root/.keras/datasets/test_beg/Image_203.jpg': 'pecora', '/root/.keras/datasets/test_beg/Image_204.jpg': 'pecora', '/root/.keras/datasets/test_beg/Image_205.jpg': 'pecora', '/root/.keras/datasets/test_beg/Image_206.jpg': 'mucca', '/root/.keras/datasets/test_beg/Image_207.jpg': 'pecora', '/root/.keras/datasets/test_beg/Image_208.jpg': 'mucca', '/root/.keras/datasets/test_beg/Image_209.jpg': 'mucca', '/root/.keras/datasets/test_beg/Image_21.jpg': 'mucca', '/root/.keras/datasets/test_beg/Image_210.jpg': 'pecora', '/root/.keras/datasets/test_beg/Image_211.jpg': 'pecora', '/root/.keras/datasets/test_beg/Image_212.jpg': 'pecora', '/root/.keras/datasets/test_beg/Image_213.jpg': 'mucca', '/root/.keras/datasets/test_beg/Image_214.jpg': 'mucca', '/root/.keras/datasets/test_beg/Image_215.jpg': 'mucca', '/root/.keras/datasets/test_beg/Image_216.jpg': 'mucca', '/root/.keras/datasets/test_beg/Image_217.jpg': 'pecora', '/root/.keras/datasets/test_beg/Image_218.jpg': 'pecora', '/root/.keras/datasets/test_beg/Image_219.jpg': 'mucca', '/root/.keras/datasets/test_beg/Image_22.jpg': 'mucca', '/root/.keras/datasets/test_beg/Image_220.jpg': 'mucca', '/root/.keras/datasets/test_beg/Image_221.jpg': 'pecora', '/root/.keras/datasets/test_beg/Image_222.jpg': 'mucca', '/root/.keras/datasets/test_beg/Image_223.jpg': 'pecora', '/root/.keras/datasets/test_beg/Image_224.jpg': 'mucca', '/root/.keras/datasets/test_beg/Image_225.jpg': 'pecora', '/root/.keras/datasets/test_beg/Image_226.jpg': 'pecora', '/root/.keras/datasets/test_beg/Image_227.jpg': 'pecora', '/root/.keras/datasets/test_beg/Image_228.jpg': 'pecora', '/root/.keras/datasets/test_beg/Image_229.jpg': 'mucca', '/root/.keras/datasets/test_beg/Image_23.jpg': 'mucca', '/root/.keras/datasets/test_beg/Image_230.jpg': 'mucca', '/root/.keras/datasets/test_beg/Image_231.jpg': 'pecora', '/root/.keras/datasets/test_beg/Image_232.jpg': 'mucca', '/root/.keras/datasets/test_beg/Image_233.jpg': 'mucca', '/root/.keras/datasets/test_beg/Image_234.jpg': 'pecora', '/root/.keras/datasets/test_beg/Image_235.jpg': 'pecora', '/root/.keras/datasets/test_beg/Image_236.jpg': 'pecora', '/root/.keras/datasets/test_beg/Image_237.jpg': 'pecora', '/root/.keras/datasets/test_beg/Image_238.jpg': 'pecora', '/root/.keras/datasets/test_beg/Image_239.jpg': 'pecora', '/root/.keras/datasets/test_beg/Image_24.jpg': 'pecora', '/root/.keras/datasets/test_beg/Image_240.jpg': 'mucca', '/root/.keras/datasets/test_beg/Image_241.jpg': 'pecora', '/root/.keras/datasets/test_beg/Image_242.jpg': 'pecora', '/root/.keras/datasets/test_beg/Image_243.jpg': 'mucca', '/root/.keras/datasets/test_beg/Image_244.jpg': 'mucca', '/root/.keras/datasets/test_beg/Image_245.jpg': 'mucca', '/root/.keras/datasets/test_beg/Image_246.jpg': 'pecora', '/root/.keras/datasets/test_beg/Image_247.jpg': 'pecora', '/root/.keras/datasets/test_beg/Image_248.jpg': 'pecora', '/root/.keras/datasets/test_beg/Image_249.jpg': 'pecora', '/root/.keras/datasets/test_beg/Image_25.jpg': 'pecora', '/root/.keras/datasets/test_beg/Image_250.jpg': 'mucca', '/root/.keras/datasets/test_beg/Image_251.jpg': 'mucca', '/root/.keras/datasets/test_beg/Image_252.jpg': 'pecora', '/root/.keras/datasets/test_beg/Image_253.jpg': 'mucca', '/root/.keras/datasets/test_beg/Image_254.jpg': 'pecora', '/root/.keras/datasets/test_beg/Image_255.jpg': 'mucca', '/root/.keras/datasets/test_beg/Image_256.jpg': 'mucca', '/root/.keras/datasets/test_beg/Image_257.jpg': 'mucca', '/root/.keras/datasets/test_beg/Image_258.jpg': 'mucca', '/root/.keras/datasets/test_beg/Image_259.jpg': 'mucca', '/root/.keras/datasets/test_beg/Image_26.jpg': 'pecora', '/root/.keras/datasets/test_beg/Image_260.jpg': 'pecora', '/root/.keras/datasets/test_beg/Image_261.jpg': 'mucca', '/root/.keras/datasets/test_beg/Image_262.jpg': 'mucca', '/root/.keras/datasets/test_beg/Image_263.jpg': 'pecora', '/root/.keras/datasets/test_beg/Image_264.jpg': 'mucca', '/root/.keras/datasets/test_beg/Image_265.jpg': 'mucca', '/root/.keras/datasets/test_beg/Image_266.jpg': 'pecora', '/root/.keras/datasets/test_beg/Image_267.jpg': 'mucca', '/root/.keras/datasets/test_beg/Image_268.jpg': 'pecora', '/root/.keras/datasets/test_beg/Image_269.jpg': 'mucca', '/root/.keras/datasets/test_beg/Image_27.jpg': 'mucca', '/root/.keras/datasets/test_beg/Image_270.jpg': 'pecora', '/root/.keras/datasets/test_beg/Image_271.jpg': 'pecora', '/root/.keras/datasets/test_beg/Image_272.jpg': 'pecora', '/root/.keras/datasets/test_beg/Image_273.jpg': 'mucca', '/root/.keras/datasets/test_beg/Image_274.jpg': 'pecora', '/root/.keras/datasets/test_beg/Image_275.jpg': 'mucca', '/root/.keras/datasets/test_beg/Image_276.jpg': 'mucca', '/root/.keras/datasets/test_beg/Image_277.jpg': 'mucca', '/root/.keras/datasets/test_beg/Image_278.jpg': 'mucca', '/root/.keras/datasets/test_beg/Image_279.jpg': 'pecora', '/root/.keras/datasets/test_beg/Image_28.jpg': 'pecora', '/root/.keras/datasets/test_beg/Image_280.jpg': 'pecora', '/root/.keras/datasets/test_beg/Image_281.jpg': 'pecora', '/root/.keras/datasets/test_beg/Image_282.jpg': 'mucca', '/root/.keras/datasets/test_beg/Image_283.jpg': 'mucca', '/root/.keras/datasets/test_beg/Image_284.jpg': 'pecora', '/root/.keras/datasets/test_beg/Image_285.jpg': 'mucca', '/root/.keras/datasets/test_beg/Image_286.jpg': 'pecora', '/root/.keras/datasets/test_beg/Image_287.jpg': 'mucca', '/root/.keras/datasets/test_beg/Image_288.jpg': 'pecora', '/root/.keras/datasets/test_beg/Image_289.jpg': 'pecora', '/root/.keras/datasets/test_beg/Image_29.jpg': 'mucca', '/root/.keras/datasets/test_beg/Image_290.jpg': 'mucca', '/root/.keras/datasets/test_beg/Image_291.jpg': 'pecora', '/root/.keras/datasets/test_beg/Image_292.jpg': 'pecora', '/root/.keras/datasets/test_beg/Image_293.jpg': 'mucca', '/root/.keras/datasets/test_beg/Image_294.jpg': 'pecora', '/root/.keras/datasets/test_beg/Image_295.jpg': 'mucca', '/root/.keras/datasets/test_beg/Image_296.jpg': 'mucca', '/root/.keras/datasets/test_beg/Image_297.jpg': 'mucca', '/root/.keras/datasets/test_beg/Image_298.jpg': 'pecora', '/root/.keras/datasets/test_beg/Image_299.jpg': 'pecora', '/root/.keras/datasets/test_beg/Image_3.jpg': 'mucca', '/root/.keras/datasets/test_beg/Image_30.jpg': 'mucca', '/root/.keras/datasets/test_beg/Image_300.jpg': 'mucca', '/root/.keras/datasets/test_beg/Image_301.jpg': 'mucca', '/root/.keras/datasets/test_beg/Image_302.jpg': 'mucca', '/root/.keras/datasets/test_beg/Image_303.jpg': 'pecora', '/root/.keras/datasets/test_beg/Image_304.jpg': 'pecora', '/root/.keras/datasets/test_beg/Image_305.jpg': 'pecora', '/root/.keras/datasets/test_beg/Image_306.jpg': 'mucca', '/root/.keras/datasets/test_beg/Image_307.jpg': 'pecora', '/root/.keras/datasets/test_beg/Image_308.jpg': 'pecora', '/root/.keras/datasets/test_beg/Image_309.jpg': 'pecora', '/root/.keras/datasets/test_beg/Image_31.jpg': 'mucca', '/root/.keras/datasets/test_beg/Image_310.jpg': 'mucca', '/root/.keras/datasets/test_beg/Image_311.jpg': 'mucca', '/root/.keras/datasets/test_beg/Image_312.jpg': 'mucca', '/root/.keras/datasets/test_beg/Image_313.jpg': 'mucca', '/root/.keras/datasets/test_beg/Image_314.jpg': 'pecora', '/root/.keras/datasets/test_beg/Image_315.jpg': 'mucca', '/root/.keras/datasets/test_beg/Image_316.jpg': 'pecora', '/root/.keras/datasets/test_beg/Image_317.jpg': 'pecora', '/root/.keras/datasets/test_beg/Image_318.jpg': 'mucca', '/root/.keras/datasets/test_beg/Image_319.jpg': 'pecora', '/root/.keras/datasets/test_beg/Image_32.jpg': 'pecora', '/root/.keras/datasets/test_beg/Image_320.jpg': 'mucca', '/root/.keras/datasets/test_beg/Image_321.jpg': 'pecora', '/root/.keras/datasets/test_beg/Image_322.jpg': 'mucca', '/root/.keras/datasets/test_beg/Image_323.jpg': 'pecora', '/root/.keras/datasets/test_beg/Image_324.jpg': 'mucca', '/root/.keras/datasets/test_beg/Image_325.jpg': 'mucca', '/root/.keras/datasets/test_beg/Image_326.jpg': 'pecora', '/root/.keras/datasets/test_beg/Image_327.jpg': 'pecora', '/root/.keras/datasets/test_beg/Image_328.jpg': 'mucca', '/root/.keras/datasets/test_beg/Image_329.jpg': 'pecora', '/root/.keras/datasets/test_beg/Image_33.jpg': 'mucca', '/root/.keras/datasets/test_beg/Image_330.jpg': 'mucca', '/root/.keras/datasets/test_beg/Image_331.jpg': 'pecora', '/root/.keras/datasets/test_beg/Image_332.jpg': 'pecora', '/root/.keras/datasets/test_beg/Image_333.jpg': 'pecora', '/root/.keras/datasets/test_beg/Image_334.jpg': 'pecora', '/root/.keras/datasets/test_beg/Image_335.jpg': 'mucca', '/root/.keras/datasets/test_beg/Image_336.jpg': 'pecora', '/root/.keras/datasets/test_beg/Image_337.jpg': 'mucca', '/root/.keras/datasets/test_beg/Image_338.jpg': 'mucca', '/root/.keras/datasets/test_beg/Image_339.jpg': 'mucca', '/root/.keras/datasets/test_beg/Image_34.jpg': 'mucca', '/root/.keras/datasets/test_beg/Image_340.jpg': 'mucca', '/root/.keras/datasets/test_beg/Image_341.jpg': 'mucca', '/root/.keras/datasets/test_beg/Image_342.jpg': 'mucca', '/root/.keras/datasets/test_beg/Image_343.jpg': 'pecora', '/root/.keras/datasets/test_beg/Image_344.jpg': 'mucca', '/root/.keras/datasets/test_beg/Image_345.jpg': 'pecora', '/root/.keras/datasets/test_beg/Image_346.jpg': 'pecora', '/root/.keras/datasets/test_beg/Image_347.jpg': 'pecora', '/root/.keras/datasets/test_beg/Image_348.jpg': 'pecora', '/root/.keras/datasets/test_beg/Image_349.jpg': 'mucca', '/root/.keras/datasets/test_beg/Image_35.jpg': 'pecora', '/root/.keras/datasets/test_beg/Image_350.jpg': 'mucca', '/root/.keras/datasets/test_beg/Image_351.jpg': 'mucca', '/root/.keras/datasets/test_beg/Image_352.jpg': 'mucca', '/root/.keras/datasets/test_beg/Image_353.jpg': 'mucca', '/root/.keras/datasets/test_beg/Image_354.jpg': 'mucca', '/root/.keras/datasets/test_beg/Image_355.jpg': 'pecora', '/root/.keras/datasets/test_beg/Image_356.jpg': 'mucca', '/root/.keras/datasets/test_beg/Image_357.jpg': 'mucca', '/root/.keras/datasets/test_beg/Image_358.jpg': 'pecora', '/root/.keras/datasets/test_beg/Image_359.jpg': 'mucca', '/root/.keras/datasets/test_beg/Image_36.jpg': 'mucca', '/root/.keras/datasets/test_beg/Image_360.jpg': 'mucca', '/root/.keras/datasets/test_beg/Image_361.jpg': 'mucca', '/root/.keras/datasets/test_beg/Image_362.jpg': 'mucca', '/root/.keras/datasets/test_beg/Image_363.jpg': 'mucca', '/root/.keras/datasets/test_beg/Image_364.jpg': 'pecora', '/root/.keras/datasets/test_beg/Image_365.jpg': 'mucca', '/root/.keras/datasets/test_beg/Image_366.jpg': 'mucca', '/root/.keras/datasets/test_beg/Image_367.jpg': 'mucca', '/root/.keras/datasets/test_beg/Image_368.jpg': 'pecora', '/root/.keras/datasets/test_beg/Image_369.jpg': 'mucca', '/root/.keras/datasets/test_beg/Image_37.jpg': 'mucca', '/root/.keras/datasets/test_beg/Image_370.jpg': 'mucca', '/root/.keras/datasets/test_beg/Image_371.jpg': 'mucca', '/root/.keras/datasets/test_beg/Image_372.jpg': 'mucca', '/root/.keras/datasets/test_beg/Image_373.jpg': 'pecora', '/root/.keras/datasets/test_beg/Image_374.jpg': 'mucca', '/root/.keras/datasets/test_beg/Image_375.jpg': 'mucca', '/root/.keras/datasets/test_beg/Image_376.jpg': 'mucca', '/root/.keras/datasets/test_beg/Image_377.jpg': 'pecora', '/root/.keras/datasets/test_beg/Image_378.jpg': 'mucca', '/root/.keras/datasets/test_beg/Image_379.jpg': 'mucca', '/root/.keras/datasets/test_beg/Image_38.jpg': 'mucca', '/root/.keras/datasets/test_beg/Image_380.jpg': 'mucca', '/root/.keras/datasets/test_beg/Image_381.jpg': 'mucca', '/root/.keras/datasets/test_beg/Image_382.jpg': 'mucca', '/root/.keras/datasets/test_beg/Image_383.jpg': 'pecora', '/root/.keras/datasets/test_beg/Image_384.jpg': 'mucca', '/root/.keras/datasets/test_beg/Image_385.jpg': 'mucca', '/root/.keras/datasets/test_beg/Image_386.jpg': 'pecora', '/root/.keras/datasets/test_beg/Image_387.jpg': 'pecora', '/root/.keras/datasets/test_beg/Image_388.jpg': 'pecora', '/root/.keras/datasets/test_beg/Image_389.jpg': 'mucca', '/root/.keras/datasets/test_beg/Image_39.jpg': 'pecora', '/root/.keras/datasets/test_beg/Image_390.jpg': 'pecora', '/root/.keras/datasets/test_beg/Image_391.jpg': 'mucca', '/root/.keras/datasets/test_beg/Image_392.jpg': 'mucca', '/root/.keras/datasets/test_beg/Image_393.jpg': 'pecora', '/root/.keras/datasets/test_beg/Image_394.jpg': 'mucca', '/root/.keras/datasets/test_beg/Image_395.jpg': 'pecora', '/root/.keras/datasets/test_beg/Image_396.jpg': 'mucca', '/root/.keras/datasets/test_beg/Image_397.jpg': 'pecora', '/root/.keras/datasets/test_beg/Image_398.jpg': 'pecora', '/root/.keras/datasets/test_beg/Image_399.jpg': 'mucca', '/root/.keras/datasets/test_beg/Image_4.jpg': 'pecora', '/root/.keras/datasets/test_beg/Image_40.jpg': 'mucca', '/root/.keras/datasets/test_beg/Image_400.jpg': 'mucca', '/root/.keras/datasets/test_beg/Image_41.jpg': 'mucca', '/root/.keras/datasets/test_beg/Image_42.jpg': 'mucca', '/root/.keras/datasets/test_beg/Image_43.jpg': 'pecora', '/root/.keras/datasets/test_beg/Image_44.jpg': 'pecora', '/root/.keras/datasets/test_beg/Image_45.jpg': 'mucca', '/root/.keras/datasets/test_beg/Image_46.jpg': 'mucca', '/root/.keras/datasets/test_beg/Image_47.jpg': 'pecora', '/root/.keras/datasets/test_beg/Image_48.jpg': 'pecora', '/root/.keras/datasets/test_beg/Image_49.jpg': 'mucca', '/root/.keras/datasets/test_beg/Image_5.jpg': 'pecora', '/root/.keras/datasets/test_beg/Image_50.jpg': 'mucca', '/root/.keras/datasets/test_beg/Image_51.jpg': 'pecora', '/root/.keras/datasets/test_beg/Image_52.jpg': 'mucca', '/root/.keras/datasets/test_beg/Image_53.jpg': 'mucca', '/root/.keras/datasets/test_beg/Image_54.jpg': 'mucca', '/root/.keras/datasets/test_beg/Image_55.jpg': 'pecora', '/root/.keras/datasets/test_beg/Image_56.jpg': 'mucca', '/root/.keras/datasets/test_beg/Image_57.jpg': 'mucca', '/root/.keras/datasets/test_beg/Image_58.jpg': 'pecora', '/root/.keras/datasets/test_beg/Image_59.jpg': 'pecora', '/root/.keras/datasets/test_beg/Image_6.jpg': 'mucca', '/root/.keras/datasets/test_beg/Image_60.jpg': 'pecora', '/root/.keras/datasets/test_beg/Image_61.jpg': 'pecora', '/root/.keras/datasets/test_beg/Image_62.jpg': 'pecora', '/root/.keras/datasets/test_beg/Image_63.jpg': 'pecora', '/root/.keras/datasets/test_beg/Image_64.jpg': 'mucca', '/root/.keras/datasets/test_beg/Image_65.jpg': 'mucca', '/root/.keras/datasets/test_beg/Image_66.jpg': 'mucca', '/root/.keras/datasets/test_beg/Image_67.jpg': 'mucca', '/root/.keras/datasets/test_beg/Image_68.jpg': 'pecora', '/root/.keras/datasets/test_beg/Image_69.jpg': 'pecora', '/root/.keras/datasets/test_beg/Image_7.jpg': 'mucca', '/root/.keras/datasets/test_beg/Image_70.jpg': 'pecora', '/root/.keras/datasets/test_beg/Image_71.jpg': 'pecora', '/root/.keras/datasets/test_beg/Image_72.jpg': 'pecora', '/root/.keras/datasets/test_beg/Image_73.jpg': 'pecora', '/root/.keras/datasets/test_beg/Image_74.jpg': 'mucca', '/root/.keras/datasets/test_beg/Image_75.jpg': 'mucca', '/root/.keras/datasets/test_beg/Image_76.jpg': 'pecora', '/root/.keras/datasets/test_beg/Image_77.jpg': 'pecora', '/root/.keras/datasets/test_beg/Image_78.jpg': 'pecora', '/root/.keras/datasets/test_beg/Image_79.jpg': 'pecora', '/root/.keras/datasets/test_beg/Image_8.jpg': 'pecora', '/root/.keras/datasets/test_beg/Image_80.jpg': 'pecora', '/root/.keras/datasets/test_beg/Image_81.jpg': 'pecora', '/root/.keras/datasets/test_beg/Image_82.jpg': 'mucca', '/root/.keras/datasets/test_beg/Image_83.jpg': 'mucca', '/root/.keras/datasets/test_beg/Image_84.jpg': 'pecora', '/root/.keras/datasets/test_beg/Image_85.jpg': 'pecora', '/root/.keras/datasets/test_beg/Image_86.jpg': 'mucca', '/root/.keras/datasets/test_beg/Image_87.jpg': 'mucca', '/root/.keras/datasets/test_beg/Image_88.jpg': 'mucca', '/root/.keras/datasets/test_beg/Image_89.jpg': 'pecora', '/root/.keras/datasets/test_beg/Image_9.jpg': 'mucca', '/root/.keras/datasets/test_beg/Image_90.jpg': 'mucca', '/root/.keras/datasets/test_beg/Image_91.jpg': 'pecora', '/root/.keras/datasets/test_beg/Image_92.jpg': 'mucca', '/root/.keras/datasets/test_beg/Image_93.jpg': 'pecora', '/root/.keras/datasets/test_beg/Image_94.jpg': 'mucca', '/root/.keras/datasets/test_beg/Image_95.jpg': 'mucca', '/root/.keras/datasets/test_beg/Image_96.jpg': 'mucca', '/root/.keras/datasets/test_beg/Image_97.jpg': 'mucca', '/root/.keras/datasets/test_beg/Image_98.jpg': 'mucca', '/root/.keras/datasets/test_beg/Image_99.jpg': 'pecora'}\n",
      "['pecora', 'pecora', 'mucca', 'pecora', 'pecora', 'mucca', 'mucca', 'pecora', 'mucca', 'pecora', 'mucca', 'mucca', 'pecora', 'mucca', 'pecora', 'pecora', 'mucca', 'pecora', 'pecora', 'pecora', 'mucca', 'mucca', 'mucca', 'pecora', 'pecora', 'pecora', 'mucca', 'pecora', 'mucca', 'mucca', 'mucca', 'pecora', 'mucca', 'mucca', 'pecora', 'mucca', 'mucca', 'mucca', 'pecora', 'mucca', 'mucca', 'mucca', 'pecora', 'pecora', 'mucca', 'mucca', 'pecora', 'pecora', 'mucca', 'mucca', 'pecora', 'mucca', 'mucca', 'mucca', 'pecora', 'mucca', 'mucca', 'pecora', 'pecora', 'pecora', 'pecora', 'pecora', 'pecora', 'mucca', 'mucca', 'mucca', 'mucca', 'pecora', 'pecora', 'pecora', 'pecora', 'pecora', 'pecora', 'mucca', 'mucca', 'pecora', 'pecora', 'pecora', 'pecora', 'pecora', 'pecora', 'mucca', 'mucca', 'pecora', 'pecora', 'mucca', 'mucca', 'mucca', 'pecora', 'mucca', 'pecora', 'mucca', 'pecora', 'mucca', 'mucca', 'mucca', 'mucca', 'mucca', 'pecora', 'pecora', 'mucca', 'pecora', 'pecora', 'pecora', 'pecora', 'pecora', 'mucca', 'mucca', 'mucca', 'pecora', 'pecora', 'pecora', 'mucca', 'pecora', 'mucca', 'pecora', 'pecora', 'mucca', 'mucca', 'mucca', 'mucca', 'mucca', 'pecora', 'mucca', 'mucca', 'pecora', 'mucca', 'pecora', 'mucca', 'pecora', 'mucca', 'mucca', 'mucca', 'mucca', 'mucca', 'pecora', 'mucca', 'mucca', 'mucca', 'pecora', 'mucca', 'pecora', 'mucca', 'pecora', 'pecora', 'pecora', 'pecora', 'pecora', 'pecora', 'mucca', 'pecora', 'pecora', 'pecora', 'mucca', 'pecora', 'mucca', 'pecora', 'pecora', 'pecora', 'pecora', 'mucca', 'pecora', 'pecora', 'mucca', 'mucca', 'pecora', 'pecora', 'pecora', 'pecora', 'mucca', 'mucca', 'mucca', 'pecora', 'mucca', 'mucca', 'pecora', 'pecora', 'mucca', 'mucca', 'mucca', 'pecora', 'mucca', 'pecora', 'mucca', 'pecora', 'mucca', 'mucca', 'mucca', 'mucca', 'mucca', 'mucca', 'mucca', 'mucca', 'pecora', 'pecora', 'pecora', 'mucca', 'mucca', 'mucca', 'mucca', 'mucca', 'mucca', 'pecora', 'pecora', 'pecora', 'mucca', 'pecora', 'mucca', 'mucca', 'pecora', 'pecora', 'pecora', 'mucca', 'mucca', 'mucca', 'mucca', 'pecora', 'pecora', 'mucca', 'mucca', 'pecora', 'mucca', 'pecora', 'mucca', 'pecora', 'pecora', 'pecora', 'pecora', 'mucca', 'mucca', 'pecora', 'mucca', 'mucca', 'pecora', 'pecora', 'pecora', 'pecora', 'pecora', 'pecora', 'mucca', 'pecora', 'pecora', 'mucca', 'mucca', 'mucca', 'pecora', 'pecora', 'pecora', 'pecora', 'mucca', 'mucca', 'pecora', 'mucca', 'pecora', 'mucca', 'mucca', 'mucca', 'mucca', 'mucca', 'pecora', 'mucca', 'mucca', 'pecora', 'mucca', 'mucca', 'pecora', 'mucca', 'pecora', 'mucca', 'pecora', 'pecora', 'pecora', 'mucca', 'pecora', 'mucca', 'mucca', 'mucca', 'mucca', 'pecora', 'pecora', 'pecora', 'mucca', 'mucca', 'pecora', 'mucca', 'pecora', 'mucca', 'pecora', 'pecora', 'mucca', 'pecora', 'pecora', 'mucca', 'pecora', 'mucca', 'mucca', 'mucca', 'pecora', 'pecora', 'mucca', 'mucca', 'mucca', 'pecora', 'pecora', 'pecora', 'mucca', 'pecora', 'pecora', 'pecora', 'mucca', 'mucca', 'mucca', 'mucca', 'pecora', 'mucca', 'pecora', 'pecora', 'mucca', 'pecora', 'mucca', 'pecora', 'mucca', 'pecora', 'mucca', 'mucca', 'pecora', 'pecora', 'mucca', 'pecora', 'mucca', 'pecora', 'pecora', 'pecora', 'pecora', 'mucca', 'pecora', 'mucca', 'mucca', 'mucca', 'mucca', 'mucca', 'mucca', 'pecora', 'mucca', 'pecora', 'pecora', 'pecora', 'pecora', 'mucca', 'mucca', 'mucca', 'mucca', 'mucca', 'mucca', 'pecora', 'mucca', 'mucca', 'pecora', 'mucca', 'mucca', 'mucca', 'mucca', 'mucca', 'pecora', 'mucca', 'mucca', 'mucca', 'pecora', 'mucca', 'mucca', 'mucca', 'mucca', 'pecora', 'mucca', 'mucca', 'mucca', 'pecora', 'mucca', 'mucca', 'mucca', 'mucca', 'mucca', 'pecora', 'mucca', 'mucca', 'pecora', 'pecora', 'pecora', 'mucca', 'pecora', 'mucca', 'mucca', 'pecora', 'mucca', 'pecora', 'mucca', 'pecora', 'pecora', 'mucca', 'mucca']\n"
     ]
    }
   ],
   "source": [
    "# reorder predictions array respecting order of images in testing set csv file\n",
    "paths = list([path.numpy().decode('utf-8') for path in test_list_ds])\n",
    "res_dict = dict(zip(paths, predictions))\n",
    "res = []\n",
    "\n",
    "ts = pd.read_csv(\"https://raw.githubusercontent.com/dphi-official/Datasets/master/animal_data/Testing_set_animals.csv\", header=None)\n",
    "for name in ts.values:\n",
    "  res.append(res_dict['/root/.keras/datasets/test_beg/' + name[0]])\n",
    "\n",
    "print(res)"
   ]
  }
 ],
 "metadata": {
  "colab": {
   "name": "dphi_bootcamp_assignment_2.ipynb",
   "provenance": []
  },
  "kernelspec": {
   "display_name": "Python 3",
   "language": "python",
   "name": "python3"
  },
  "language_info": {
   "codemirror_mode": {
    "name": "ipython",
    "version": 3
   },
   "file_extension": ".py",
   "mimetype": "text/x-python",
   "name": "python",
   "nbconvert_exporter": "python",
   "pygments_lexer": "ipython3",
   "version": "3.8.3"
  }
 },
 "nbformat": 4,
 "nbformat_minor": 1
}
