{
 "cells": [
  {
   "cell_type": "markdown",
   "metadata": {
    "colab_type": "text",
    "id": "HqNmfEwOL21f"
   },
   "source": [
    "# Import important libraries"
   ]
  },
  {
   "cell_type": "code",
   "execution_count": 2,
   "metadata": {
    "colab": {
     "base_uri": "https://localhost:8080/",
     "height": 34
    },
    "colab_type": "code",
    "executionInfo": {
     "elapsed": 24663,
     "status": "ok",
     "timestamp": 1599989711558,
     "user": {
      "displayName": "Venkatesh satagopan",
      "photoUrl": "https://lh3.googleusercontent.com/a-/AOh14GhlX847a9RTYRJHq5oJHCu_7kwtFevkzx8AdBjN=s64",
      "userId": "17840482695052468392"
     },
     "user_tz": -120
    },
    "id": "1eDqgEWWODiw",
    "outputId": "e675e355-398e-41bb-f6f9-162aa2de407d"
   },
   "outputs": [
    {
     "name": "stdout",
     "output_type": "stream",
     "text": [
      "Mounted at /content/drive\n"
     ]
    }
   ],
   "source": [
    "from google.colab import drive\n",
    "drive.mount('/content/drive')"
   ]
  },
  {
   "cell_type": "markdown",
   "metadata": {
    "colab_type": "text",
    "id": "vRoD4-oq0ZxJ"
   },
   "source": [
    "# Import required libraries"
   ]
  },
  {
   "cell_type": "code",
   "execution_count": 1,
   "metadata": {
    "colab": {},
    "colab_type": "code",
    "executionInfo": {
     "elapsed": 2551,
     "status": "ok",
     "timestamp": 1599992699136,
     "user": {
      "displayName": "Venkatesh satagopan",
      "photoUrl": "https://lh3.googleusercontent.com/a-/AOh14GhlX847a9RTYRJHq5oJHCu_7kwtFevkzx8AdBjN=s64",
      "userId": "17840482695052468392"
     },
     "user_tz": -120
    },
    "id": "FXCOaxBgCXLN"
   },
   "outputs": [],
   "source": [
    "import pathlib\n",
    "import tensorflow as tf\n",
    "from tensorflow.keras.preprocessing import image_dataset_from_directory\n",
    "import tensorflow_hub as hub\n",
    "import os\n",
    "import matplotlib.pyplot as plt\n",
    "from google_drive_downloader import GoogleDriveDownloader as gdd\n",
    "import numpy as np\n",
    "import pandas as pd\n",
    "import cv2"
   ]
  },
  {
   "cell_type": "code",
   "execution_count": 2,
   "metadata": {
    "colab": {},
    "colab_type": "code",
    "executionInfo": {
     "elapsed": 513,
     "status": "ok",
     "timestamp": 1599992700767,
     "user": {
      "displayName": "Venkatesh satagopan",
      "photoUrl": "https://lh3.googleusercontent.com/a-/AOh14GhlX847a9RTYRJHq5oJHCu_7kwtFevkzx8AdBjN=s64",
      "userId": "17840482695052468392"
     },
     "user_tz": -120
    },
    "id": "lu8wcRIWNApi"
   },
   "outputs": [],
   "source": [
    "folder_path='/content/animal_dataset_intermediate/'"
   ]
  },
  {
   "cell_type": "markdown",
   "metadata": {
    "colab_type": "text",
    "id": "b0nEaRZ40mIW"
   },
   "source": [
    "# Downloading data "
   ]
  },
  {
   "cell_type": "code",
   "execution_count": 3,
   "metadata": {
    "colab": {
     "base_uri": "https://localhost:8080/",
     "height": 51
    },
    "colab_type": "code",
    "executionInfo": {
     "elapsed": 5616,
     "status": "ok",
     "timestamp": 1599992707943,
     "user": {
      "displayName": "Venkatesh satagopan",
      "photoUrl": "https://lh3.googleusercontent.com/a-/AOh14GhlX847a9RTYRJHq5oJHCu_7kwtFevkzx8AdBjN=s64",
      "userId": "17840482695052468392"
     },
     "user_tz": -120
    },
    "id": "jBddV_QmK1zl",
    "outputId": "154b480a-749b-41f9-f850-f2827e592404"
   },
   "outputs": [
    {
     "name": "stdout",
     "output_type": "stream",
     "text": [
      "Downloading 176E-pLhoxTgWsJ3MeoJQV_GXczIA6g8D into /content/animals.zip... Done.\n",
      "Unzipping...Done.\n"
     ]
    }
   ],
   "source": [
    "\n",
    "gdd.download_file_from_google_drive(file_id='176E-pLhoxTgWsJ3MeoJQV_GXczIA6g8D',\n",
    "                                    dest_path='/content/animals.zip',\n",
    "                                    unzip=True)\n"
   ]
  },
  {
   "cell_type": "markdown",
   "metadata": {
    "colab_type": "text",
    "id": "BTkszlMAFC__"
   },
   "source": [
    "# Checking the total number of training data for each class"
   ]
  },
  {
   "cell_type": "code",
   "execution_count": 4,
   "metadata": {
    "colab": {
     "base_uri": "https://localhost:8080/",
     "height": 102
    },
    "colab_type": "code",
    "executionInfo": {
     "elapsed": 2713,
     "status": "ok",
     "timestamp": 1599992707947,
     "user": {
      "displayName": "Venkatesh satagopan",
      "photoUrl": "https://lh3.googleusercontent.com/a-/AOh14GhlX847a9RTYRJHq5oJHCu_7kwtFevkzx8AdBjN=s64",
      "userId": "17840482695052468392"
     },
     "user_tz": -120
    },
    "id": "gGFIo-cFCq-8",
    "outputId": "144c5a77-a1cf-4efd-8f2c-3dd64ba1d82c"
   },
   "outputs": [
    {
     "name": "stdout",
     "output_type": "stream",
     "text": [
      "The class farfalla has 1901 number of training data\n",
      "The class elefante has 1302 number of training data\n",
      "The class mucca has 1680 number of training data\n",
      "The class scoiattolo has 1676 number of training data\n",
      "The class pecora has 1639 number of training data\n"
     ]
    }
   ],
   "source": [
    "class_samples={}\n",
    "for val in pathlib.Path(folder_path+'train').iterdir():\n",
    "  count=0\n",
    "  for val1 in pathlib.Path(val).iterdir():\n",
    "    if val1.is_file():\n",
    "      count+=1\n",
    "  class_name=str(val).split('/')[-1]\n",
    "  class_name=class_name.split('_')[0]\n",
    "  class_samples[class_name]=count\n",
    "  print('The class {} has {} number of training data'.format(class_name,count))\n",
    "  "
   ]
  },
  {
   "cell_type": "code",
   "execution_count": 5,
   "metadata": {
    "colab": {
     "base_uri": "https://localhost:8080/",
     "height": 102
    },
    "colab_type": "code",
    "executionInfo": {
     "elapsed": 1664,
     "status": "ok",
     "timestamp": 1599992707948,
     "user": {
      "displayName": "Venkatesh satagopan",
      "photoUrl": "https://lh3.googleusercontent.com/a-/AOh14GhlX847a9RTYRJHq5oJHCu_7kwtFevkzx8AdBjN=s64",
      "userId": "17840482695052468392"
     },
     "user_tz": -120
    },
    "id": "elcuiQGt9Jw5",
    "outputId": "27c75161-9aea-4a6c-fbe2-684ab9b9f493"
   },
   "outputs": [
    {
     "data": {
      "text/plain": [
       "{'elefante': 1302,\n",
       " 'farfalla': 1901,\n",
       " 'mucca': 1680,\n",
       " 'pecora': 1639,\n",
       " 'scoiattolo': 1676}"
      ]
     },
     "execution_count": 5,
     "metadata": {
      "tags": []
     },
     "output_type": "execute_result"
    }
   ],
   "source": [
    "class_samples"
   ]
  },
  {
   "cell_type": "markdown",
   "metadata": {
    "colab_type": "text",
    "id": "lAPo5UmRFO23"
   },
   "source": [
    "# From the above data we see the class farfalla_train has more training data compared to other class. There is a slight class imbalance among all the classes. We will try to use class_weight or focal_loss for fine tuning the deep learning model which we are going to use"
   ]
  },
  {
   "cell_type": "markdown",
   "metadata": {
    "colab_type": "text",
    "id": "ag6g7D53GP5Y"
   },
   "source": [
    "# Let's visualize the data"
   ]
  },
  {
   "cell_type": "code",
   "execution_count": 6,
   "metadata": {
    "colab": {
     "base_uri": "https://localhost:8080/",
     "height": 85
    },
    "colab_type": "code",
    "executionInfo": {
     "elapsed": 6526,
     "status": "ok",
     "timestamp": 1599992716054,
     "user": {
      "displayName": "Venkatesh satagopan",
      "photoUrl": "https://lh3.googleusercontent.com/a-/AOh14GhlX847a9RTYRJHq5oJHCu_7kwtFevkzx8AdBjN=s64",
      "userId": "17840482695052468392"
     },
     "user_tz": -120
    },
    "id": "mOyWh5fJDf-H",
    "outputId": "f1ffc383-b3c0-454c-ae11-91e7c2118092"
   },
   "outputs": [
    {
     "name": "stdout",
     "output_type": "stream",
     "text": [
      "Found 8196 files belonging to 5 classes.\n",
      "Using 6557 files for training.\n",
      "Found 8196 files belonging to 5 classes.\n",
      "Using 1639 files for validation.\n"
     ]
    }
   ],
   "source": [
    "image_size = (512, 512)\n",
    "valid_image_size=(480,480)\n",
    "batch_size = 128\n",
    "\n",
    "train_ds = image_dataset_from_directory(\n",
    "    folder_path+\"train\",\n",
    "    labels = \"inferred\",\n",
    "    label_mode = 'int',\n",
    "    validation_split=0.2,\n",
    "    subset=\"training\",\n",
    "    seed=1400,\n",
    "    image_size=image_size,\n",
    "    batch_size=batch_size,\n",
    ")\n",
    "val_ds =image_dataset_from_directory(\n",
    "    folder_path+\"train\",\n",
    "    labels = \"inferred\",\n",
    "    label_mode = 'int',\n",
    "    validation_split=0.2,\n",
    "    subset=\"validation\",\n",
    "    seed=1400,\n",
    "    image_size=valid_image_size,\n",
    "    batch_size=batch_size,\n",
    ")\n",
    "\n"
   ]
  },
  {
   "cell_type": "code",
   "execution_count": 7,
   "metadata": {
    "colab": {},
    "colab_type": "code",
    "executionInfo": {
     "elapsed": 543,
     "status": "ok",
     "timestamp": 1599992721275,
     "user": {
      "displayName": "Venkatesh satagopan",
      "photoUrl": "https://lh3.googleusercontent.com/a-/AOh14GhlX847a9RTYRJHq5oJHCu_7kwtFevkzx8AdBjN=s64",
      "userId": "17840482695052468392"
     },
     "user_tz": -120
    },
    "id": "e-9rr6hjTYJu"
   },
   "outputs": [],
   "source": [
    "DATASET_NUM_TRAIN_EXAMPLES = 6557"
   ]
  },
  {
   "cell_type": "markdown",
   "metadata": {
    "colab_type": "text",
    "id": "VjRktZsr0wSQ"
   },
   "source": [
    "# This code is taken from the pre-processing code provided by raviraj"
   ]
  },
  {
   "cell_type": "code",
   "execution_count": null,
   "metadata": {
    "colab": {
     "base_uri": "https://localhost:8080/",
     "height": 591
    },
    "colab_type": "code",
    "executionInfo": {
     "elapsed": 7876,
     "status": "ok",
     "timestamp": 1599992730595,
     "user": {
      "displayName": "Venkatesh satagopan",
      "photoUrl": "https://lh3.googleusercontent.com/a-/AOh14GhlX847a9RTYRJHq5oJHCu_7kwtFevkzx8AdBjN=s64",
      "userId": "17840482695052468392"
     },
     "user_tz": -120
    },
    "id": "2izOEzkfGUck",
    "outputId": "46a4c61e-4db3-4745-9b34-6f94359fcf6b"
   },
   "outputs": [],
   "source": [
    "\n",
    "plt.figure(figsize=(10, 10))\n",
    "for images, labels in train_ds.take(1):\n",
    "    for i in range(9):\n",
    "        ax = plt.subplot(3, 3, i + 1)\n",
    "        plt.imshow(images[i].numpy().astype(\"uint8\"))\n",
    "        plt.title(int(labels[i]))\n",
    "        plt.axis(\"off\")"
   ]
  },
  {
   "cell_type": "markdown",
   "metadata": {
    "colab_type": "text",
    "id": "PO9D_4Ny9Wo-"
   },
   "source": [
    "# We see the dataset-pipeline considers the class as follows\n",
    "class_0 as elefante\n",
    "\n",
    "class_1 as farfalla\n",
    "\n",
    "class_2 as mucca\n",
    "\n",
    "class_3 as pecora\n",
    "\n",
    "class_4 as scoiattolo"
   ]
  },
  {
   "cell_type": "code",
   "execution_count": 9,
   "metadata": {
    "colab": {},
    "colab_type": "code",
    "executionInfo": {
     "elapsed": 5567,
     "status": "ok",
     "timestamp": 1599992730598,
     "user": {
      "displayName": "Venkatesh satagopan",
      "photoUrl": "https://lh3.googleusercontent.com/a-/AOh14GhlX847a9RTYRJHq5oJHCu_7kwtFevkzx8AdBjN=s64",
      "userId": "17840482695052468392"
     },
     "user_tz": -120
    },
    "id": "6rdmX9WX2RSS"
   },
   "outputs": [],
   "source": [
    " labels=['elefante','farfalla','mucca','pecora','scoiattolo']\n",
    " #label[2]='mucca'\n",
    " #label pecora (sheep), elefante (elephant), farfalla (butterfly) and scoiattolo (squirrel)"
   ]
  },
  {
   "cell_type": "markdown",
   "metadata": {
    "colab_type": "text",
    "id": "I-Vr_tvi-RS-"
   },
   "source": [
    "# Calculating class_weight for handling the small class imbalance"
   ]
  },
  {
   "cell_type": "code",
   "execution_count": 10,
   "metadata": {
    "colab": {
     "base_uri": "https://localhost:8080/",
     "height": 34
    },
    "colab_type": "code",
    "executionInfo": {
     "elapsed": 3601,
     "status": "ok",
     "timestamp": 1599992730600,
     "user": {
      "displayName": "Venkatesh satagopan",
      "photoUrl": "https://lh3.googleusercontent.com/a-/AOh14GhlX847a9RTYRJHq5oJHCu_7kwtFevkzx8AdBjN=s64",
      "userId": "17840482695052468392"
     },
     "user_tz": -120
    },
    "id": "kG3AD5pf97IJ",
    "outputId": "4b6d97bb-f117-48e2-c269-8168bd020638"
   },
   "outputs": [
    {
     "data": {
      "text/plain": [
       "8198"
      ]
     },
     "execution_count": 10,
     "metadata": {
      "tags": []
     },
     "output_type": "execute_result"
    }
   ],
   "source": [
    "Total_samples=sum(class_samples.values())\n",
    "Total_samples"
   ]
  },
  {
   "cell_type": "code",
   "execution_count": 11,
   "metadata": {
    "colab": {
     "base_uri": "https://localhost:8080/",
     "height": 34
    },
    "colab_type": "code",
    "executionInfo": {
     "elapsed": 2497,
     "status": "ok",
     "timestamp": 1599992730600,
     "user": {
      "displayName": "Venkatesh satagopan",
      "photoUrl": "https://lh3.googleusercontent.com/a-/AOh14GhlX847a9RTYRJHq5oJHCu_7kwtFevkzx8AdBjN=s64",
      "userId": "17840482695052468392"
     },
     "user_tz": -120
    },
    "id": "wbCcwn7kOiE4",
    "outputId": "b7412880-3d55-4e42-cb79-5df16dd5fba8"
   },
   "outputs": [
    {
     "data": {
      "text/plain": [
       "5"
      ]
     },
     "execution_count": 11,
     "metadata": {
      "tags": []
     },
     "output_type": "execute_result"
    }
   ],
   "source": [
    "NUM_CLASSES= len(next(os.walk(folder_path+'train'))[1])\n",
    "NUM_CLASSES"
   ]
  },
  {
   "cell_type": "code",
   "execution_count": 12,
   "metadata": {
    "colab": {},
    "colab_type": "code",
    "executionInfo": {
     "elapsed": 1232,
     "status": "ok",
     "timestamp": 1599992730601,
     "user": {
      "displayName": "Venkatesh satagopan",
      "photoUrl": "https://lh3.googleusercontent.com/a-/AOh14GhlX847a9RTYRJHq5oJHCu_7kwtFevkzx8AdBjN=s64",
      "userId": "17840482695052468392"
     },
     "user_tz": -120
    },
    "id": "-nB0wmf6-lbC"
   },
   "outputs": [],
   "source": [
    "class_weight={}\n",
    "\n",
    "for idx, val in enumerate(labels):\n",
    "  class_weight[idx] = Total_samples/(NUM_CLASSES*class_samples[val])"
   ]
  },
  {
   "cell_type": "code",
   "execution_count": 13,
   "metadata": {
    "colab": {
     "base_uri": "https://localhost:8080/",
     "height": 102
    },
    "colab_type": "code",
    "executionInfo": {
     "elapsed": 341,
     "status": "ok",
     "timestamp": 1599992730601,
     "user": {
      "displayName": "Venkatesh satagopan",
      "photoUrl": "https://lh3.googleusercontent.com/a-/AOh14GhlX847a9RTYRJHq5oJHCu_7kwtFevkzx8AdBjN=s64",
      "userId": "17840482695052468392"
     },
     "user_tz": -120
    },
    "id": "BNzpb6FQ-7Da",
    "outputId": "dd50240a-9063-4435-d41d-f14553a4b6a0"
   },
   "outputs": [
    {
     "data": {
      "text/plain": [
       "{0: 1.2592933947772658,\n",
       " 1: 0.862493424513414,\n",
       " 2: 0.9759523809523809,\n",
       " 3: 1.000366076876144,\n",
       " 4: 0.9782816229116945}"
      ]
     },
     "execution_count": 13,
     "metadata": {
      "tags": []
     },
     "output_type": "execute_result"
    }
   ],
   "source": [
    "class_weight"
   ]
  },
  {
   "cell_type": "markdown",
   "metadata": {
    "colab_type": "text",
    "id": "mxGbf4XpPWV1"
   },
   "source": [
    "# Putting the test folder inside a new folder to avoid error when creating test pipeline"
   ]
  },
  {
   "cell_type": "code",
   "execution_count": 14,
   "metadata": {
    "colab": {},
    "colab_type": "code",
    "executionInfo": {
     "elapsed": 451,
     "status": "ok",
     "timestamp": 1599992732390,
     "user": {
      "displayName": "Venkatesh satagopan",
      "photoUrl": "https://lh3.googleusercontent.com/a-/AOh14GhlX847a9RTYRJHq5oJHCu_7kwtFevkzx8AdBjN=s64",
      "userId": "17840482695052468392"
     },
     "user_tz": -120
    },
    "id": "vp9LAzKrwwaG"
   },
   "outputs": [],
   "source": [
    "! mkdir '/content/animal_dataset_intermediate/testing'"
   ]
  },
  {
   "cell_type": "code",
   "execution_count": 15,
   "metadata": {
    "colab": {},
    "colab_type": "code",
    "executionInfo": {
     "elapsed": 569,
     "status": "ok",
     "timestamp": 1599992733344,
     "user": {
      "displayName": "Venkatesh satagopan",
      "photoUrl": "https://lh3.googleusercontent.com/a-/AOh14GhlX847a9RTYRJHq5oJHCu_7kwtFevkzx8AdBjN=s64",
      "userId": "17840482695052468392"
     },
     "user_tz": -120
    },
    "id": "FJq-umOos888"
   },
   "outputs": [],
   "source": [
    "! cp -r '/content/animal_dataset_intermediate/test' '/content/animal_dataset_intermediate/testing'"
   ]
  },
  {
   "cell_type": "code",
   "execution_count": 16,
   "metadata": {
    "colab": {
     "base_uri": "https://localhost:8080/",
     "height": 34
    },
    "colab_type": "code",
    "executionInfo": {
     "elapsed": 481,
     "status": "ok",
     "timestamp": 1599992734224,
     "user": {
      "displayName": "Venkatesh satagopan",
      "photoUrl": "https://lh3.googleusercontent.com/a-/AOh14GhlX847a9RTYRJHq5oJHCu_7kwtFevkzx8AdBjN=s64",
      "userId": "17840482695052468392"
     },
     "user_tz": -120
    },
    "id": "w24nwG8BrirH",
    "outputId": "ed3db13a-30ff-48f6-e195-45a174f0eda9"
   },
   "outputs": [
    {
     "name": "stdout",
     "output_type": "stream",
     "text": [
      "Found 910 files belonging to 1 classes.\n"
     ]
    }
   ],
   "source": [
    "test_ds = image_dataset_from_directory(\n",
    "    folder_path+\"testing\",\n",
    "    labels = \"inferred\",\n",
    "    label_mode = 'int',\n",
    "    seed=1400,\n",
    "    image_size=image_size,\n",
    "    batch_size=batch_size,\n",
    "    shuffle=False\n",
    ")"
   ]
  },
  {
   "cell_type": "markdown",
   "metadata": {
    "colab_type": "text",
    "id": "zFZbU-Y-1_vh"
   },
   "source": [
    "# Preprocessing functions required for getting the data ready"
   ]
  },
  {
   "cell_type": "code",
   "execution_count": 17,
   "metadata": {
    "colab": {},
    "colab_type": "code",
    "executionInfo": {
     "elapsed": 442,
     "status": "ok",
     "timestamp": 1599992736425,
     "user": {
      "displayName": "Venkatesh satagopan",
      "photoUrl": "https://lh3.googleusercontent.com/a-/AOh14GhlX847a9RTYRJHq5oJHCu_7kwtFevkzx8AdBjN=s64",
      "userId": "17840482695052468392"
     },
     "user_tz": -120
    },
    "id": "uAiXtT1d2ahX"
   },
   "outputs": [],
   "source": [
    "CROP_TO=480\n",
    "input_image_dim=480"
   ]
  },
  {
   "cell_type": "code",
   "execution_count": 18,
   "metadata": {
    "colab": {},
    "colab_type": "code",
    "executionInfo": {
     "elapsed": 436,
     "status": "ok",
     "timestamp": 1599992737275,
     "user": {
      "displayName": "Venkatesh satagopan",
      "photoUrl": "https://lh3.googleusercontent.com/a-/AOh14GhlX847a9RTYRJHq5oJHCu_7kwtFevkzx8AdBjN=s64",
      "userId": "17840482695052468392"
     },
     "user_tz": -120
    },
    "id": "4DybIUnx188F"
   },
   "outputs": [],
   "source": [
    "def cast_to_dict(image,label):\n",
    "  value={}\n",
    "  value['image']=image\n",
    "  value['label']=label\n",
    "  return value \n",
    "\n",
    "\n",
    "def cast_to_tuple(features):\n",
    "  return (features['image'], features['label'])\n",
    "  \n",
    "def preprocess_train(features):\n",
    "  # Apply random crops and horizontal flips for all tasks \n",
    "  # except those for which cropping or flipping destroys the label semantics\n",
    "  # (e.g. predict orientation of an object)\n",
    "  features['image'] = tf.image.random_flip_left_right(features['image'])\n",
    "  #features['image'] = tf.image.random_flip_up_down(features['image'])\n",
    "  #features['image'] = tf.image.rot90(features['image'],k=1)\n",
    "  features['image'] = tf.image.random_crop(features['image'], [tf.shape(features['image'])[0],CROP_TO, CROP_TO,3])\n",
    "  features['image'] = tf.cast(features['image'], tf.float32) / 255.0\n",
    "  return features\n",
    "\n",
    "def preprocess_valid(features):\n",
    "  #features['image']=tf.image.resize(features['image'], [tf.shape(features['image'])[0],input_image_dim, input_image_dim,3]))\n",
    "  features['image'] = tf.cast(features['image'], tf.float32) / 255.0\n",
    "  return features\n",
    "\n",
    "def preprocess_test(image,label):\n",
    "  image = tf.cast(image, tf.float32) / 255.0\n",
    "  return image\n",
    "\n",
    "def preprocess_test_aug(image,label):\n",
    "  image=tf.image.random_flip_left_right(image)\n",
    "  image = tf.cast(image, tf.float32) / 255.0\n",
    "  return image"
   ]
  },
  {
   "cell_type": "code",
   "execution_count": 19,
   "metadata": {
    "colab": {},
    "colab_type": "code",
    "executionInfo": {
     "elapsed": 540,
     "status": "ok",
     "timestamp": 1599992738323,
     "user": {
      "displayName": "Venkatesh satagopan",
      "photoUrl": "https://lh3.googleusercontent.com/a-/AOh14GhlX847a9RTYRJHq5oJHCu_7kwtFevkzx8AdBjN=s64",
      "userId": "17840482695052468392"
     },
     "user_tz": -120
    },
    "id": "QOAapG5k2L8F"
   },
   "outputs": [],
   "source": [
    "augmented_train_ds_ann = train_ds.map(cast_to_dict).map(preprocess_train).map(cast_to_tuple)\n",
    "pipeline_valid_ann = val_ds.map(cast_to_dict).map(preprocess_valid).map(cast_to_tuple)"
   ]
  },
  {
   "cell_type": "markdown",
   "metadata": {
    "colab_type": "text",
    "id": "88nNzzbJNCqp"
   },
   "source": [
    "# Setting hyper-parameters"
   ]
  },
  {
   "cell_type": "code",
   "execution_count": 20,
   "metadata": {
    "colab": {},
    "colab_type": "code",
    "executionInfo": {
     "elapsed": 477,
     "status": "ok",
     "timestamp": 1599992739323,
     "user": {
      "displayName": "Venkatesh satagopan",
      "photoUrl": "https://lh3.googleusercontent.com/a-/AOh14GhlX847a9RTYRJHq5oJHCu_7kwtFevkzx8AdBjN=s64",
      "userId": "17840482695052468392"
     },
     "user_tz": -120
    },
    "id": "OKiYZLeT2ly3"
   },
   "outputs": [],
   "source": [
    "SCHEDULE_BOUNDARIES = [20, 40, 60]\n",
    "BATCH_SIZE = 128\n",
    "lr = 0.003 * BATCH_SIZE / 512 \n",
    "\n",
    "# Decay learning rate by a factor of 10 at SCHEDULE_BOUNDARIES.\n",
    "lr_schedule = tf.keras.optimizers.schedules.PiecewiseConstantDecay(boundaries=SCHEDULE_BOUNDARIES, \n",
    "                                                                   values=[lr, lr*0.1, lr*0.001, lr*0.0001])\n",
    "# optimizer = tf.keras.optimizers.SGD(learning_rate=lr_schedule, momentum=0.9)\n",
    "\n",
    "optimizer = tf.keras.optimizers.Adam(learning_rate=lr_schedule)\n",
    "\n",
    "loss_fn = tf.keras.losses.SparseCategoricalCrossentropy(from_logits=True)"
   ]
  },
  {
   "cell_type": "markdown",
   "metadata": {
    "colab_type": "text",
    "id": "X-cy3CJhTqZo"
   },
   "source": [
    "# Model - 1 (ANN)"
   ]
  },
  {
   "cell_type": "markdown",
   "metadata": {
    "colab_type": "text",
    "id": "ic5veMgrOXWK"
   },
   "source": [
    "# Creating 3 Dense layers with 256,512,1024 neurons respectively . Adding dropout to regularize the network\n",
    "\n",
    "# Final Dense layer have 5 neurons since the number of classes is 5 here"
   ]
  },
  {
   "cell_type": "code",
   "execution_count": 21,
   "metadata": {
    "colab": {},
    "colab_type": "code",
    "executionInfo": {
     "elapsed": 459,
     "status": "ok",
     "timestamp": 1599992740579,
     "user": {
      "displayName": "Venkatesh satagopan",
      "photoUrl": "https://lh3.googleusercontent.com/a-/AOh14GhlX847a9RTYRJHq5oJHCu_7kwtFevkzx8AdBjN=s64",
      "userId": "17840482695052468392"
     },
     "user_tz": -120
    },
    "id": "lP6g64vX3LnV"
   },
   "outputs": [],
   "source": [
    "model_ann=tf.keras.Sequential([\n",
    "                               tf.keras.layers.Flatten(input_shape=(input_image_dim,input_image_dim,3)),\n",
    "                               tf.keras.layers.Dense(256,activation=tf.keras.activations.tanh),\n",
    "                               tf.keras.layers.Dropout(0.3),\n",
    "                               tf.keras.layers.Dense(512,activation=tf.keras.activations.tanh),\n",
    "                               tf.keras.layers.Dropout(0.3),\n",
    "                               tf.keras.layers.Dense(1024,activation=tf.keras.activations.tanh),\n",
    "                               tf.keras.layers.Dropout(0.3),\n",
    "                               tf.keras.layers.Dense(NUM_CLASSES, kernel_initializer='zeros',activation=tf.keras.activations.softmax),\n",
    "                         \n",
    "])"
   ]
  },
  {
   "cell_type": "code",
   "execution_count": 22,
   "metadata": {
    "colab": {
     "base_uri": "https://localhost:8080/",
     "height": 425
    },
    "colab_type": "code",
    "executionInfo": {
     "elapsed": 474,
     "status": "ok",
     "timestamp": 1599992741981,
     "user": {
      "displayName": "Venkatesh satagopan",
      "photoUrl": "https://lh3.googleusercontent.com/a-/AOh14GhlX847a9RTYRJHq5oJHCu_7kwtFevkzx8AdBjN=s64",
      "userId": "17840482695052468392"
     },
     "user_tz": -120
    },
    "id": "FlNBRsF95M2T",
    "outputId": "7f65d7af-03ab-4c57-86d9-a7330903d6a5"
   },
   "outputs": [
    {
     "name": "stdout",
     "output_type": "stream",
     "text": [
      "Model: \"sequential\"\n",
      "_________________________________________________________________\n",
      "Layer (type)                 Output Shape              Param #   \n",
      "=================================================================\n",
      "flatten (Flatten)            (None, 691200)            0         \n",
      "_________________________________________________________________\n",
      "dense (Dense)                (None, 256)               176947456 \n",
      "_________________________________________________________________\n",
      "dropout (Dropout)            (None, 256)               0         \n",
      "_________________________________________________________________\n",
      "dense_1 (Dense)              (None, 512)               131584    \n",
      "_________________________________________________________________\n",
      "dropout_1 (Dropout)          (None, 512)               0         \n",
      "_________________________________________________________________\n",
      "dense_2 (Dense)              (None, 1024)              525312    \n",
      "_________________________________________________________________\n",
      "dropout_2 (Dropout)          (None, 1024)              0         \n",
      "_________________________________________________________________\n",
      "dense_3 (Dense)              (None, 5)                 5125      \n",
      "=================================================================\n",
      "Total params: 177,609,477\n",
      "Trainable params: 177,609,477\n",
      "Non-trainable params: 0\n",
      "_________________________________________________________________\n"
     ]
    }
   ],
   "source": [
    "model_ann.summary()"
   ]
  },
  {
   "cell_type": "code",
   "execution_count": 23,
   "metadata": {
    "colab": {},
    "colab_type": "code",
    "executionInfo": {
     "elapsed": 324,
     "status": "ok",
     "timestamp": 1599992743201,
     "user": {
      "displayName": "Venkatesh satagopan",
      "photoUrl": "https://lh3.googleusercontent.com/a-/AOh14GhlX847a9RTYRJHq5oJHCu_7kwtFevkzx8AdBjN=s64",
      "userId": "17840482695052468392"
     },
     "user_tz": -120
    },
    "id": "_3oVLOev5Yr4"
   },
   "outputs": [],
   "source": [
    "model_ann.compile(optimizer=optimizer,\n",
    "              loss=loss_fn,\n",
    "              metrics=['accuracy'])\n"
   ]
  },
  {
   "cell_type": "code",
   "execution_count": 25,
   "metadata": {
    "colab": {
     "base_uri": "https://localhost:8080/",
     "height": 1000
    },
    "colab_type": "code",
    "executionInfo": {
     "elapsed": 1908879,
     "status": "ok",
     "timestamp": 1599995005388,
     "user": {
      "displayName": "Venkatesh satagopan",
      "photoUrl": "https://lh3.googleusercontent.com/a-/AOh14GhlX847a9RTYRJHq5oJHCu_7kwtFevkzx8AdBjN=s64",
      "userId": "17840482695052468392"
     },
     "user_tz": -120
    },
    "id": "Ge1uqJpn5SVG",
    "outputId": "3a2a2c2a-2454-42fd-85bf-6a498588d4b4"
   },
   "outputs": [
    {
     "name": "stdout",
     "output_type": "stream",
     "text": [
      "Epoch 1/30\n",
      "52/52 [==============================] - 59s 1s/step - loss: 1.6050 - accuracy: 0.2256 - val_loss: 1.6041 - val_accuracy: 0.2355\n",
      "Epoch 2/30\n",
      "52/52 [==============================] - 60s 1s/step - loss: 1.6048 - accuracy: 0.2317 - val_loss: 1.6041 - val_accuracy: 0.2355\n",
      "Epoch 3/30\n",
      "52/52 [==============================] - 59s 1s/step - loss: 1.6050 - accuracy: 0.2224 - val_loss: 1.6041 - val_accuracy: 0.2361\n",
      "Epoch 4/30\n",
      "52/52 [==============================] - 59s 1s/step - loss: 1.6049 - accuracy: 0.2256 - val_loss: 1.6041 - val_accuracy: 0.2355\n",
      "Epoch 5/30\n",
      "52/52 [==============================] - 59s 1s/step - loss: 1.6043 - accuracy: 0.2330 - val_loss: 1.6041 - val_accuracy: 0.2361\n",
      "Epoch 6/30\n",
      "52/52 [==============================] - 59s 1s/step - loss: 1.6049 - accuracy: 0.2248 - val_loss: 1.6041 - val_accuracy: 0.2361\n",
      "Epoch 7/30\n",
      "52/52 [==============================] - 60s 1s/step - loss: 1.6045 - accuracy: 0.2306 - val_loss: 1.6041 - val_accuracy: 0.2361\n",
      "Epoch 8/30\n",
      "52/52 [==============================] - 59s 1s/step - loss: 1.6047 - accuracy: 0.2292 - val_loss: 1.6040 - val_accuracy: 0.2361\n",
      "Epoch 9/30\n",
      "52/52 [==============================] - 59s 1s/step - loss: 1.6043 - accuracy: 0.2257 - val_loss: 1.6040 - val_accuracy: 0.2361\n",
      "Epoch 10/30\n",
      "52/52 [==============================] - 59s 1s/step - loss: 1.6042 - accuracy: 0.2361 - val_loss: 1.6040 - val_accuracy: 0.2361\n",
      "Epoch 11/30\n",
      "52/52 [==============================] - 60s 1s/step - loss: 1.6047 - accuracy: 0.2278 - val_loss: 1.6040 - val_accuracy: 0.2361\n",
      "Epoch 12/30\n",
      "52/52 [==============================] - 59s 1s/step - loss: 1.6046 - accuracy: 0.2268 - val_loss: 1.6040 - val_accuracy: 0.2361\n",
      "Epoch 13/30\n",
      "52/52 [==============================] - 59s 1s/step - loss: 1.6051 - accuracy: 0.2217 - val_loss: 1.6040 - val_accuracy: 0.2361\n",
      "Epoch 14/30\n",
      "52/52 [==============================] - 59s 1s/step - loss: 1.6046 - accuracy: 0.2309 - val_loss: 1.6040 - val_accuracy: 0.2361\n",
      "Epoch 15/30\n",
      "52/52 [==============================] - 59s 1s/step - loss: 1.6051 - accuracy: 0.2277 - val_loss: 1.6040 - val_accuracy: 0.2361\n",
      "Epoch 16/30\n",
      "52/52 [==============================] - 59s 1s/step - loss: 1.6045 - accuracy: 0.2294 - val_loss: 1.6039 - val_accuracy: 0.2361\n",
      "Epoch 17/30\n",
      "52/52 [==============================] - 60s 1s/step - loss: 1.6043 - accuracy: 0.2260 - val_loss: 1.6039 - val_accuracy: 0.2361\n",
      "Epoch 18/30\n",
      "52/52 [==============================] - 59s 1s/step - loss: 1.6047 - accuracy: 0.2288 - val_loss: 1.6039 - val_accuracy: 0.2361\n",
      "Epoch 19/30\n",
      "52/52 [==============================] - 59s 1s/step - loss: 1.6039 - accuracy: 0.2343 - val_loss: 1.6039 - val_accuracy: 0.2361\n",
      "Epoch 20/30\n",
      "52/52 [==============================] - 59s 1s/step - loss: 1.6048 - accuracy: 0.2282 - val_loss: 1.6039 - val_accuracy: 0.2361\n",
      "Epoch 21/30\n",
      "52/52 [==============================] - 59s 1s/step - loss: 1.6047 - accuracy: 0.2219 - val_loss: 1.6039 - val_accuracy: 0.2361\n",
      "Epoch 22/30\n",
      "52/52 [==============================] - 59s 1s/step - loss: 1.6049 - accuracy: 0.2269 - val_loss: 1.6039 - val_accuracy: 0.2361\n",
      "Epoch 23/30\n",
      "52/52 [==============================] - 59s 1s/step - loss: 1.6046 - accuracy: 0.2266 - val_loss: 1.6039 - val_accuracy: 0.2361\n",
      "Epoch 24/30\n",
      "52/52 [==============================] - 59s 1s/step - loss: 1.6049 - accuracy: 0.2251 - val_loss: 1.6039 - val_accuracy: 0.2361\n",
      "Epoch 25/30\n",
      "52/52 [==============================] - 59s 1s/step - loss: 1.6049 - accuracy: 0.2240 - val_loss: 1.6038 - val_accuracy: 0.2361\n",
      "Epoch 26/30\n",
      "52/52 [==============================] - 60s 1s/step - loss: 1.6049 - accuracy: 0.2228 - val_loss: 1.6038 - val_accuracy: 0.2361\n",
      "Epoch 27/30\n",
      "52/52 [==============================] - 59s 1s/step - loss: 1.6048 - accuracy: 0.2314 - val_loss: 1.6038 - val_accuracy: 0.2361\n",
      "Epoch 28/30\n",
      "52/52 [==============================] - 59s 1s/step - loss: 1.6047 - accuracy: 0.2301 - val_loss: 1.6038 - val_accuracy: 0.2361\n",
      "Epoch 29/30\n",
      "52/52 [==============================] - 59s 1s/step - loss: 1.6046 - accuracy: 0.2289 - val_loss: 1.6038 - val_accuracy: 0.2361\n",
      "Epoch 30/30\n",
      "52/52 [==============================] - 59s 1s/step - loss: 1.6048 - accuracy: 0.2253 - val_loss: 1.6038 - val_accuracy: 0.2361\n"
     ]
    }
   ],
   "source": [
    "history_ann = model_ann.fit(\n",
    "        augmented_train_ds_ann,\n",
    "        epochs=30,  # TODO: replace with `epochs=10` here to shorten fine-tuning for tutorial if you wish\n",
    "        validation_data=pipeline_valid_ann  # here we are only using \n",
    "                                   # this data to evaluate our performance\n",
    "        \n",
    ")"
   ]
  },
  {
   "cell_type": "code",
   "execution_count": 31,
   "metadata": {
    "colab": {},
    "colab_type": "code",
    "executionInfo": {
     "elapsed": 655,
     "status": "ok",
     "timestamp": 1599995254260,
     "user": {
      "displayName": "Venkatesh satagopan",
      "photoUrl": "https://lh3.googleusercontent.com/a-/AOh14GhlX847a9RTYRJHq5oJHCu_7kwtFevkzx8AdBjN=s64",
      "userId": "17840482695052468392"
     },
     "user_tz": -120
    },
    "id": "U5Dl_rFjIqQW"
   },
   "outputs": [],
   "source": [
    "def plot_results(history):\n",
    "  print(history.history.keys())\n",
    "#  \"Accuracy\"\n",
    "  plt.plot(history.history['accuracy'])\n",
    "  plt.plot(history.history['val_accuracy'])\n",
    "  plt.title('model accuracy')\n",
    "  plt.ylabel('accuracy')\n",
    "  plt.xlabel('epoch')\n",
    "  plt.legend(['train', 'validation'], loc='upper left')\n",
    "  plt.show()\n",
    "  # \"Loss\"\n",
    "  plt.plot(history.history['loss'])\n",
    "  plt.plot(history.history['val_loss'])\n",
    "  plt.title('model loss')\n",
    "  plt.ylabel('loss')\n",
    "  plt.xlabel('epoch')\n",
    "  plt.legend(['train', 'validation'], loc='upper left')\n",
    "  plt.show()"
   ]
  },
  {
   "cell_type": "code",
   "execution_count": 32,
   "metadata": {
    "colab": {
     "base_uri": "https://localhost:8080/",
     "height": 590
    },
    "colab_type": "code",
    "executionInfo": {
     "elapsed": 910,
     "status": "ok",
     "timestamp": 1599995267012,
     "user": {
      "displayName": "Venkatesh satagopan",
      "photoUrl": "https://lh3.googleusercontent.com/a-/AOh14GhlX847a9RTYRJHq5oJHCu_7kwtFevkzx8AdBjN=s64",
      "userId": "17840482695052468392"
     },
     "user_tz": -120
    },
    "id": "J0DJMgjJJiHN",
    "outputId": "11e114d4-7d7c-4667-f46f-86d32e32e756"
   },
   "outputs": [
    {
     "name": "stdout",
     "output_type": "stream",
     "text": [
      "dict_keys(['loss', 'accuracy', 'val_loss', 'val_accuracy'])\n"
     ]
    },
    {
     "data": {
      "image/png": "[encoded data removed]",
      "text/plain": [
       "<Figure size 432x288 with 1 Axes>"
      ]
     },
     "metadata": {
      "needs_background": "light",
      "tags": []
     },
     "output_type": "display_data"
    },
    {
     "data": {
      "image/png": "[encoded data removed]",
      "text/plain": [
       "<Figure size 432x288 with 1 Axes>"
      ]
     },
     "metadata": {
      "needs_background": "light",
      "tags": []
     },
     "output_type": "display_data"
    }
   ],
   "source": [
    "plot_results(history_ann)"
   ]
  },
  {
   "cell_type": "markdown",
   "metadata": {
    "colab_type": "text",
    "id": "daBRllOGO3_C"
   },
   "source": [
    "# Model is producing 23.6% accuracy after training for 30 epochs which is little more than random guessing(20%) for 5 classes"
   ]
  },
  {
   "cell_type": "markdown",
   "metadata": {
    "colab_type": "text",
    "id": "0QL_vst_1ft6"
   },
   "source": [
    "# Method - 2 (Resnet50 (finetuning))"
   ]
  },
  {
   "cell_type": "markdown",
   "metadata": {
    "colab_type": "text",
    "id": "Zg1vUZDaKhSo"
   },
   "source": [
    "# I am going to fine-tune the deeplearning model Resnet50 provided by Bit transfer. The code and the idea are modified from the below link\n",
    "https://github.com/google-research/big_transfer/blob/master/colabs/big_transfer_tf2.ipynb\n",
    "\n",
    "Resnet50 -\"BiT-M\", pre-trained on ImageNet-21k I am going to use here. For more information about the paper, please follow the below link\n",
    "\n",
    "https://arxiv.org/abs/1912.11370"
   ]
  },
  {
   "cell_type": "code",
   "execution_count": 39,
   "metadata": {
    "colab": {},
    "colab_type": "code",
    "executionInfo": {
     "elapsed": 15507,
     "status": "ok",
     "timestamp": 1599995470862,
     "user": {
      "displayName": "Venkatesh satagopan",
      "photoUrl": "https://lh3.googleusercontent.com/a-/AOh14GhlX847a9RTYRJHq5oJHCu_7kwtFevkzx8AdBjN=s64",
      "userId": "17840482695052468392"
     },
     "user_tz": -120
    },
    "id": "_riksIH8HNXM"
   },
   "outputs": [],
   "source": [
    "model_url = \"https://tfhub.dev/google/bit/m-r50x1/1\"\n",
    "module = hub.KerasLayer(model_url)"
   ]
  },
  {
   "cell_type": "markdown",
   "metadata": {
    "colab_type": "text",
    "id": "IVLFydH4Qs2K"
   },
   "source": [
    "# Some other hyper-parameters mentioned in the paper to finetune the model"
   ]
  },
  {
   "cell_type": "code",
   "execution_count": 40,
   "metadata": {
    "colab": {},
    "colab_type": "code",
    "executionInfo": {
     "elapsed": 559,
     "status": "ok",
     "timestamp": 1599995482001,
     "user": {
      "displayName": "Venkatesh satagopan",
      "photoUrl": "https://lh3.googleusercontent.com/a-/AOh14GhlX847a9RTYRJHq5oJHCu_7kwtFevkzx8AdBjN=s64",
      "userId": "17840482695052468392"
     },
     "user_tz": -120
    },
    "id": "Ko1y2GzUQru2"
   },
   "outputs": [],
   "source": [
    "RESIZE_TO = 512\n",
    "CROP_TO = 480\n",
    "# SCHEDULE_LENGTH = 500\n",
    "SCHEDULE_BOUNDARIES = [4, 8, 12]\n",
    "BATCH_SIZE = 128\n",
    "# SCHEDULE_LENGTH = SCHEDULE_LENGTH * 512 / BATCH_SIZE\n",
    "# STEPS_PER_EPOCH = 10"
   ]
  },
  {
   "cell_type": "markdown",
   "metadata": {
    "colab_type": "text",
    "id": "3AzH7UOWPxGQ"
   },
   "source": [
    "# Create a class which uses the resnet model + 1 fully connected layer with 5 neurons"
   ]
  },
  {
   "cell_type": "code",
   "execution_count": 41,
   "metadata": {
    "colab": {},
    "colab_type": "code",
    "executionInfo": {
     "elapsed": 613,
     "status": "ok",
     "timestamp": 1599995484163,
     "user": {
      "displayName": "Venkatesh satagopan",
      "photoUrl": "https://lh3.googleusercontent.com/a-/AOh14GhlX847a9RTYRJHq5oJHCu_7kwtFevkzx8AdBjN=s64",
      "userId": "17840482695052468392"
     },
     "user_tz": -120
    },
    "id": "OT8IaFpjOLF-"
   },
   "outputs": [],
   "source": [
    "class MyBiTModel(tf.keras.Model):\n",
    "  \"\"\"BiT with a new head.\"\"\"\n",
    "\n",
    "  def __init__(self, num_classes, module):\n",
    "    super().__init__()\n",
    "\n",
    "    self.num_classes = num_classes\n",
    "    # Create a fully connected layer to predict the final score\n",
    "    self.head = tf.keras.layers.Dense(num_classes, kernel_initializer='zeros')\n",
    "    self.bit_model = module\n",
    "  \n",
    "  def call(self, images):\n",
    "    # No need to cut head off since we are using feature extractor model\n",
    "    bit_embedding = self.bit_model(images)\n",
    "    return self.head(bit_embedding)\n",
    "\n",
    "model = MyBiTModel(num_classes=NUM_CLASSES, module=module)"
   ]
  },
  {
   "cell_type": "code",
   "execution_count": null,
   "metadata": {
    "colab": {
     "base_uri": "https://localhost:8080/",
     "height": 221
    },
    "colab_type": "code",
    "executionInfo": {
     "elapsed": 662,
     "status": "ok",
     "timestamp": 1599942255760,
     "user": {
      "displayName": "Venkatesh Satagopan",
      "photoUrl": "",
      "userId": "13064517654184123278"
     },
     "user_tz": -120
    },
    "id": "J5bz0gQF_UXK",
    "outputId": "ea21568e-65d1-46e8-92a0-148db6fd6415"
   },
   "outputs": [
    {
     "name": "stdout",
     "output_type": "stream",
     "text": [
      "Model: \"my_bi_t_model\"\n",
      "_________________________________________________________________\n",
      "Layer (type)                 Output Shape              Param #   \n",
      "=================================================================\n",
      "dense (Dense)                multiple                  10245     \n",
      "_________________________________________________________________\n",
      "keras_layer (KerasLayer)     multiple                  23500352  \n",
      "=================================================================\n",
      "Total params: 23,510,597\n",
      "Trainable params: 10,245\n",
      "Non-trainable params: 23,500,352\n",
      "_________________________________________________________________\n"
     ]
    }
   ],
   "source": [
    "model.summary()"
   ]
  },
  {
   "cell_type": "code",
   "execution_count": 42,
   "metadata": {
    "colab": {
     "base_uri": "https://localhost:8080/",
     "height": 85
    },
    "colab_type": "code",
    "executionInfo": {
     "elapsed": 1131,
     "status": "ok",
     "timestamp": 1599995488961,
     "user": {
      "displayName": "Venkatesh satagopan",
      "photoUrl": "https://lh3.googleusercontent.com/a-/AOh14GhlX847a9RTYRJHq5oJHCu_7kwtFevkzx8AdBjN=s64",
      "userId": "17840482695052468392"
     },
     "user_tz": -120
    },
    "id": "0KdSWfEzJ4Z3",
    "outputId": "feda1716-6f51-4991-acea-69a8d32353eb"
   },
   "outputs": [
    {
     "name": "stdout",
     "output_type": "stream",
     "text": [
      "Found 8196 files belonging to 5 classes.\n",
      "Using 6557 files for training.\n",
      "Found 8196 files belonging to 5 classes.\n",
      "Using 1639 files for validation.\n"
     ]
    }
   ],
   "source": [
    "image_size = (512, 512)\n",
    "# valid_image_size=(480,480)\n",
    "batch_size = 128\n",
    "\n",
    "train_ds = image_dataset_from_directory(\n",
    "    folder_path+\"train\",\n",
    "    labels = \"inferred\",\n",
    "    label_mode = 'int',\n",
    "    validation_split=0.2,\n",
    "    subset=\"training\",\n",
    "    seed=1400,\n",
    "    image_size=image_size,\n",
    "    batch_size=batch_size,\n",
    ")\n",
    "val_ds =image_dataset_from_directory(\n",
    "    folder_path+\"train\",\n",
    "    labels = \"inferred\",\n",
    "    label_mode = 'int',\n",
    "    validation_split=0.2,\n",
    "    subset=\"validation\",\n",
    "    seed=1400,\n",
    "    image_size=image_size,\n",
    "    batch_size=batch_size,\n",
    ")\n",
    "\n"
   ]
  },
  {
   "cell_type": "markdown",
   "metadata": {
    "colab_type": "text",
    "id": "I2UUBA43QDx3"
   },
   "source": [
    "# Creating preprocessing function according to the paper"
   ]
  },
  {
   "cell_type": "code",
   "execution_count": 43,
   "metadata": {
    "colab": {},
    "colab_type": "code",
    "executionInfo": {
     "elapsed": 565,
     "status": "ok",
     "timestamp": 1599995491312,
     "user": {
      "displayName": "Venkatesh satagopan",
      "photoUrl": "https://lh3.googleusercontent.com/a-/AOh14GhlX847a9RTYRJHq5oJHCu_7kwtFevkzx8AdBjN=s64",
      "userId": "17840482695052468392"
     },
     "user_tz": -120
    },
    "id": "4WLXqqiJQiP-"
   },
   "outputs": [],
   "source": [
    "def cast_to_dict(image,label):\n",
    "  value={}\n",
    "  value['image']=image\n",
    "  value['label']=label\n",
    "  return value \n",
    "\n",
    "\n",
    "def cast_to_tuple(features):\n",
    "  return (features['image'], features['label'])\n",
    "  \n",
    "def preprocess_train(features):\n",
    "  # Apply random crops and horizontal flips for all tasks \n",
    "  # except those for which cropping or flipping destroys the label semantics\n",
    "  # (e.g. predict orientation of an object)\n",
    "  features['image'] = tf.image.random_flip_left_right(features['image'])\n",
    "  #features['image'] = tf.image.random_flip_up_down(features['image'])\n",
    "  #features['image'] = tf.image.rot90(features['image'],k=1)\n",
    "  features['image'] = tf.image.random_crop(features['image'], [tf.shape(features['image'])[0],CROP_TO, CROP_TO,3])\n",
    "  features['image'] = tf.cast(features['image'], tf.float32) / 255.0\n",
    "  return features\n",
    "\n",
    "def preprocess_valid(features):\n",
    "  features['image'] = tf.cast(features['image'], tf.float32) / 255.0\n",
    "  return features\n",
    "\n",
    "def preprocess_test(image,label):\n",
    "  image = tf.cast(image, tf.float32) / 255.0\n",
    "  return image\n",
    "\n",
    "def preprocess_test_aug(image,label):\n",
    "  image=tf.image.random_flip_left_right(image)\n",
    "  image = tf.cast(image, tf.float32) / 255.0\n",
    "  return image"
   ]
  },
  {
   "cell_type": "markdown",
   "metadata": {
    "colab_type": "text",
    "id": "8EZcMNI6MC2v"
   },
   "source": [
    "# Creating Pipeline for train and valid pipeline"
   ]
  },
  {
   "cell_type": "code",
   "execution_count": 44,
   "metadata": {
    "colab": {},
    "colab_type": "code",
    "executionInfo": {
     "elapsed": 529,
     "status": "ok",
     "timestamp": 1599995494402,
     "user": {
      "displayName": "Venkatesh satagopan",
      "photoUrl": "https://lh3.googleusercontent.com/a-/AOh14GhlX847a9RTYRJHq5oJHCu_7kwtFevkzx8AdBjN=s64",
      "userId": "17840482695052468392"
     },
     "user_tz": -120
    },
    "id": "bjDi34IvgBGW"
   },
   "outputs": [],
   "source": [
    "augmented_train_ds = train_ds.map(cast_to_dict).map(preprocess_train).map(cast_to_tuple)"
   ]
  },
  {
   "cell_type": "code",
   "execution_count": 45,
   "metadata": {
    "colab": {},
    "colab_type": "code",
    "executionInfo": {
     "elapsed": 508,
     "status": "ok",
     "timestamp": 1599995495391,
     "user": {
      "displayName": "Venkatesh satagopan",
      "photoUrl": "https://lh3.googleusercontent.com/a-/AOh14GhlX847a9RTYRJHq5oJHCu_7kwtFevkzx8AdBjN=s64",
      "userId": "17840482695052468392"
     },
     "user_tz": -120
    },
    "id": "B30rpWSrz7xy"
   },
   "outputs": [],
   "source": [
    "pipeline_valid = val_ds.map(cast_to_dict).map(preprocess_valid).map(cast_to_tuple)"
   ]
  },
  {
   "cell_type": "markdown",
   "metadata": {
    "colab_type": "text",
    "id": "zK09HKeuQYAB"
   },
   "source": [
    "# Hyperparameter "
   ]
  },
  {
   "cell_type": "code",
   "execution_count": 46,
   "metadata": {
    "colab": {},
    "colab_type": "code",
    "executionInfo": {
     "elapsed": 531,
     "status": "ok",
     "timestamp": 1599995497316,
     "user": {
      "displayName": "Venkatesh satagopan",
      "photoUrl": "https://lh3.googleusercontent.com/a-/AOh14GhlX847a9RTYRJHq5oJHCu_7kwtFevkzx8AdBjN=s64",
      "userId": "17840482695052468392"
     },
     "user_tz": -120
    },
    "id": "qm3KuXoctToP"
   },
   "outputs": [],
   "source": [
    "lr = 0.003 * BATCH_SIZE / 512 \n",
    "\n",
    "# Decay learning rate by a factor of 10 at SCHEDULE_BOUNDARIES.\n",
    "lr_schedule = tf.keras.optimizers.schedules.PiecewiseConstantDecay(boundaries=SCHEDULE_BOUNDARIES, \n",
    "                                                                   values=[lr, lr*0.1, lr*0.001, lr*0.0001])\n",
    "# optimizer = tf.keras.optimizers.SGD(learning_rate=lr_schedule, momentum=0.9)\n",
    "\n",
    "optimizer = tf.keras.optimizers.Adam(learning_rate=lr_schedule)\n",
    "\n",
    "loss_fn = tf.keras.losses.SparseCategoricalCrossentropy(from_logits=True)"
   ]
  },
  {
   "cell_type": "markdown",
   "metadata": {
    "colab_type": "text",
    "id": "bVnoeV-0OeOK"
   },
   "source": [
    "# First Submission without handling class imbalance"
   ]
  },
  {
   "cell_type": "code",
   "execution_count": 47,
   "metadata": {
    "colab": {},
    "colab_type": "code",
    "executionInfo": {
     "elapsed": 456,
     "status": "ok",
     "timestamp": 1599995500088,
     "user": {
      "displayName": "Venkatesh satagopan",
      "photoUrl": "https://lh3.googleusercontent.com/a-/AOh14GhlX847a9RTYRJHq5oJHCu_7kwtFevkzx8AdBjN=s64",
      "userId": "17840482695052468392"
     },
     "user_tz": -120
    },
    "id": "Tah-cWEUxi68"
   },
   "outputs": [],
   "source": [
    "#model=hub.KerasLayer('/content/drive/My Drive/animal_dataset_intermediate.zip (Unzipped Files)/animal_dataset_intermediate/',trainable=True)"
   ]
  },
  {
   "cell_type": "code",
   "execution_count": 48,
   "metadata": {
    "colab": {},
    "colab_type": "code",
    "executionInfo": {
     "elapsed": 483,
     "status": "ok",
     "timestamp": 1599995501547,
     "user": {
      "displayName": "Venkatesh satagopan",
      "photoUrl": "https://lh3.googleusercontent.com/a-/AOh14GhlX847a9RTYRJHq5oJHCu_7kwtFevkzx8AdBjN=s64",
      "userId": "17840482695052468392"
     },
     "user_tz": -120
    },
    "id": "vnaJqhsJxAOR"
   },
   "outputs": [],
   "source": [
    "model.compile(optimizer=optimizer,\n",
    "              loss=loss_fn,\n",
    "              metrics=['accuracy'])\n"
   ]
  },
  {
   "cell_type": "code",
   "execution_count": 49,
   "metadata": {
    "colab": {
     "base_uri": "https://localhost:8080/",
     "height": 377
    },
    "colab_type": "code",
    "executionInfo": {
     "elapsed": 3156417,
     "status": "ok",
     "timestamp": 1599998666732,
     "user": {
      "displayName": "Venkatesh satagopan",
      "photoUrl": "https://lh3.googleusercontent.com/a-/AOh14GhlX847a9RTYRJHq5oJHCu_7kwtFevkzx8AdBjN=s64",
      "userId": "17840482695052468392"
     },
     "user_tz": -120
    },
    "id": "ZUz5C-rPxERZ",
    "outputId": "a43ec0b8-3d56-48ec-cd40-7c4960d9dce6"
   },
   "outputs": [
    {
     "name": "stdout",
     "output_type": "stream",
     "text": [
      "Epoch 1/10\n",
      "52/52 [==============================] - 316s 6s/step - loss: 0.2744 - accuracy: 0.9486 - val_loss: 0.2188 - val_accuracy: 0.9780\n",
      "Epoch 2/10\n",
      "52/52 [==============================] - 303s 6s/step - loss: 0.2070 - accuracy: 0.9805 - val_loss: 0.2179 - val_accuracy: 0.9786\n",
      "Epoch 3/10\n",
      "52/52 [==============================] - 304s 6s/step - loss: 0.2063 - accuracy: 0.9806 - val_loss: 0.2170 - val_accuracy: 0.9786\n",
      "Epoch 4/10\n",
      "52/52 [==============================] - 304s 6s/step - loss: 0.2051 - accuracy: 0.9812 - val_loss: 0.2161 - val_accuracy: 0.9786\n",
      "Epoch 5/10\n",
      "52/52 [==============================] - 304s 6s/step - loss: 0.2040 - accuracy: 0.9814 - val_loss: 0.2152 - val_accuracy: 0.9786\n",
      "Epoch 6/10\n",
      "52/52 [==============================] - 304s 6s/step - loss: 0.2029 - accuracy: 0.9825 - val_loss: 0.2143 - val_accuracy: 0.9793\n",
      "Epoch 7/10\n",
      "52/52 [==============================] - 304s 6s/step - loss: 0.2025 - accuracy: 0.9826 - val_loss: 0.2134 - val_accuracy: 0.9793\n",
      "Epoch 8/10\n",
      "52/52 [==============================] - 305s 6s/step - loss: 0.2019 - accuracy: 0.9823 - val_loss: 0.2126 - val_accuracy: 0.9793\n",
      "Epoch 9/10\n",
      "52/52 [==============================] - 305s 6s/step - loss: 0.2011 - accuracy: 0.9828 - val_loss: 0.2117 - val_accuracy: 0.9793\n",
      "Epoch 10/10\n",
      "52/52 [==============================] - 305s 6s/step - loss: 0.1999 - accuracy: 0.9822 - val_loss: 0.2109 - val_accuracy: 0.9793\n"
     ]
    }
   ],
   "source": [
    "history_cnn = model.fit(\n",
    "        augmented_train_ds,\n",
    "        epochs=10,  # TODO: replace with `epochs=10` here to shorten fine-tuning for tutorial if you wish\n",
    "        validation_data=pipeline_valid  # here we are only using \n",
    "                                   # this data to evaluate our performance\n",
    "        \n",
    ")"
   ]
  },
  {
   "cell_type": "markdown",
   "metadata": {
    "colab_type": "text",
    "id": "b2bpMF4t0NnC"
   },
   "source": [
    "# This model achieves 99.45% accuracy on the test set. Let's see whether we get any improvement on the test data set if we run for another 5 epochs"
   ]
  },
  {
   "cell_type": "code",
   "execution_count": 50,
   "metadata": {
    "colab": {
     "base_uri": "https://localhost:8080/",
     "height": 590
    },
    "colab_type": "code",
    "executionInfo": {
     "elapsed": 807,
     "status": "ok",
     "timestamp": 1599998696666,
     "user": {
      "displayName": "Venkatesh satagopan",
      "photoUrl": "https://lh3.googleusercontent.com/a-/AOh14GhlX847a9RTYRJHq5oJHCu_7kwtFevkzx8AdBjN=s64",
      "userId": "17840482695052468392"
     },
     "user_tz": -120
    },
    "id": "esEV32BXWmf0",
    "outputId": "31f41e7e-5354-456f-df7c-3920f91d5eb2"
   },
   "outputs": [
    {
     "name": "stdout",
     "output_type": "stream",
     "text": [
      "dict_keys(['loss', 'accuracy', 'val_loss', 'val_accuracy'])\n"
     ]
    },
    {
     "data": {
      "image/png": "[encoded data removed]",
      "text/plain": [
       "<Figure size 432x288 with 1 Axes>"
      ]
     },
     "metadata": {
      "needs_background": "light",
      "tags": []
     },
     "output_type": "display_data"
    },
    {
     "data": {
      "image/png": "[encoded data removed]",
      "text/plain": [
       "<Figure size 432x288 with 1 Axes>"
      ]
     },
     "metadata": {
      "needs_background": "light",
      "tags": []
     },
     "output_type": "display_data"
    }
   ],
   "source": [
    "plot_results(history_cnn)"
   ]
  },
  {
   "cell_type": "code",
   "execution_count": null,
   "metadata": {
    "colab": {
     "base_uri": "https://localhost:8080/",
     "height": 207
    },
    "colab_type": "code",
    "executionInfo": {
     "elapsed": 968462,
     "status": "ok",
     "timestamp": 1599937775866,
     "user": {
      "displayName": "Venkatesh Satagopan",
      "photoUrl": "",
      "userId": "13064517654184123278"
     },
     "user_tz": -120
    },
    "id": "t-0pePuUqfW1",
    "outputId": "fd6d7155-6bdd-426a-b57e-77dd185b3399"
   },
   "outputs": [
    {
     "name": "stdout",
     "output_type": "stream",
     "text": [
      "Epoch 1/5\n",
      "52/52 [==============================] - 187s 4s/step - loss: 0.1591 - accuracy: 0.9881 - val_loss: 0.1714 - val_accuracy: 0.9817\n",
      "Epoch 2/5\n",
      "52/52 [==============================] - 187s 4s/step - loss: 0.1591 - accuracy: 0.9876 - val_loss: 0.1710 - val_accuracy: 0.9817\n",
      "Epoch 3/5\n",
      "52/52 [==============================] - 187s 4s/step - loss: 0.1588 - accuracy: 0.9880 - val_loss: 0.1707 - val_accuracy: 0.9823\n",
      "Epoch 4/5\n",
      "52/52 [==============================] - 187s 4s/step - loss: 0.1580 - accuracy: 0.9884 - val_loss: 0.1703 - val_accuracy: 0.9823\n",
      "Epoch 5/5\n",
      "52/52 [==============================] - 187s 4s/step - loss: 0.1580 - accuracy: 0.9873 - val_loss: 0.1700 - val_accuracy: 0.9817\n"
     ]
    }
   ],
   "source": [
    "history_cnn = model.fit(\n",
    "        augmented_train_ds,\n",
    "        epochs=5,  # TODO: replace with `epochs=10` here to shorten fine-tuning for tutorial if you wish\n",
    "        validation_data=pipeline_valid  # here we are only using \n",
    "                                   # this data to evaluate our performance\n",
    "        \n",
    ")"
   ]
  },
  {
   "cell_type": "markdown",
   "metadata": {
    "colab_type": "text",
    "id": "-oHQI0pN0CWb"
   },
   "source": [
    "# This model achieves 99.45% accuracy which is same as previous model. Since Loss is decreasing , Let's try for another 5 epochs"
   ]
  },
  {
   "cell_type": "code",
   "execution_count": null,
   "metadata": {
    "colab": {
     "base_uri": "https://localhost:8080/",
     "height": 207
    },
    "colab_type": "code",
    "executionInfo": {
     "elapsed": 969180,
     "status": "ok",
     "timestamp": 1599938981025,
     "user": {
      "displayName": "Venkatesh Satagopan",
      "photoUrl": "",
      "userId": "13064517654184123278"
     },
     "user_tz": -120
    },
    "id": "bfThS7cEvIvF",
    "outputId": "eb07d9e8-fdc2-4a3b-8a8b-302ffc4eb583"
   },
   "outputs": [
    {
     "name": "stdout",
     "output_type": "stream",
     "text": [
      "Epoch 1/5\n",
      "52/52 [==============================] - 188s 4s/step - loss: 0.1571 - accuracy: 0.9886 - val_loss: 0.1696 - val_accuracy: 0.9817\n",
      "Epoch 2/5\n",
      "52/52 [==============================] - 187s 4s/step - loss: 0.1570 - accuracy: 0.9875 - val_loss: 0.1693 - val_accuracy: 0.9817\n",
      "Epoch 3/5\n",
      "52/52 [==============================] - 187s 4s/step - loss: 0.1570 - accuracy: 0.9883 - val_loss: 0.1689 - val_accuracy: 0.9817\n",
      "Epoch 4/5\n",
      "52/52 [==============================] - 187s 4s/step - loss: 0.1563 - accuracy: 0.9872 - val_loss: 0.1686 - val_accuracy: 0.9817\n",
      "Epoch 5/5\n",
      "52/52 [==============================] - 187s 4s/step - loss: 0.1563 - accuracy: 0.9876 - val_loss: 0.1683 - val_accuracy: 0.9817\n"
     ]
    }
   ],
   "source": [
    "history_cnn = model.fit(\n",
    "        augmented_train_ds,\n",
    "        epochs=5,  # TODO: replace with `epochs=10` here to shorten fine-tuning for tutorial if you wish\n",
    "        validation_data=pipeline_valid  # here we are only using \n",
    "                                   # this data to evaluate our performance\n",
    "        \n",
    ")"
   ]
  },
  {
   "cell_type": "markdown",
   "metadata": {
    "colab_type": "text",
    "id": "oMlffJpz0i-g"
   },
   "source": [
    "# This model achieves 99.34% accuracy, so we can use the model trained with 15 epochs as the final model"
   ]
  },
  {
   "cell_type": "code",
   "execution_count": null,
   "metadata": {
    "colab": {},
    "colab_type": "code",
    "id": "-bb1Q3SByvst"
   },
   "outputs": [],
   "source": [
    "model.load_weights('/content/drive/My Drive/animal_dataset_intermediate.zip (Unzipped Files)/animal_dataset_intermediate/initial_model_2.h5')"
   ]
  },
  {
   "cell_type": "markdown",
   "metadata": {
    "colab_type": "text",
    "id": "FxtpVkyBP34b"
   },
   "source": [
    "# Now Adding class_weight to handle class imbalance and see if we see any improvement in the output"
   ]
  },
  {
   "cell_type": "markdown",
   "metadata": {
    "colab_type": "text",
    "id": "FQY-37Sw_fmX"
   },
   "source": [
    "# Let's try to use the class_weights which we have calculated before to train the model for another 5 epochs and see if we get some improvement"
   ]
  },
  {
   "cell_type": "code",
   "execution_count": null,
   "metadata": {
    "colab": {
     "base_uri": "https://localhost:8080/",
     "height": 207
    },
    "colab_type": "code",
    "executionInfo": {
     "elapsed": 973404,
     "status": "ok",
     "timestamp": 1599943372475,
     "user": {
      "displayName": "Venkatesh Satagopan",
      "photoUrl": "",
      "userId": "13064517654184123278"
     },
     "user_tz": -120
    },
    "id": "PoFHc5o3_qQa",
    "outputId": "7e93375f-f1b9-4ba9-91cd-d393125491a6"
   },
   "outputs": [
    {
     "name": "stdout",
     "output_type": "stream",
     "text": [
      "Epoch 1/5\n",
      "52/52 [==============================] - 188s 4s/step - loss: 0.1612 - accuracy: 0.9876 - val_loss: 0.1749 - val_accuracy: 0.9823\n",
      "Epoch 2/5\n",
      "52/52 [==============================] - 188s 4s/step - loss: 0.1614 - accuracy: 0.9880 - val_loss: 0.1745 - val_accuracy: 0.9823\n",
      "Epoch 3/5\n",
      "52/52 [==============================] - 188s 4s/step - loss: 0.1613 - accuracy: 0.9878 - val_loss: 0.1741 - val_accuracy: 0.9823\n",
      "Epoch 4/5\n",
      "52/52 [==============================] - 188s 4s/step - loss: 0.1607 - accuracy: 0.9878 - val_loss: 0.1737 - val_accuracy: 0.9823\n",
      "Epoch 5/5\n",
      "52/52 [==============================] - 188s 4s/step - loss: 0.1606 - accuracy: 0.9886 - val_loss: 0.1733 - val_accuracy: 0.9823\n"
     ]
    }
   ],
   "source": [
    "history_cnn = model.fit(\n",
    "        augmented_train_ds,\n",
    "        epochs=5,  # TODO: replace with `epochs=10` here to shorten fine-tuning for tutorial if you wish\n",
    "        validation_data=pipeline_valid,  # here we are only using \n",
    "        class_weight=class_weight                        # this data to evaluate our performance\n",
    "        \n",
    ")"
   ]
  },
  {
   "cell_type": "code",
   "execution_count": null,
   "metadata": {
    "colab": {
     "base_uri": "https://localhost:8080/",
     "height": 207
    },
    "colab_type": "code",
    "executionInfo": {
     "elapsed": 970472,
     "status": "ok",
     "timestamp": 1599944576766,
     "user": {
      "displayName": "Venkatesh Satagopan",
      "photoUrl": "",
      "userId": "13064517654184123278"
     },
     "user_tz": -120
    },
    "id": "acaU-IymEehY",
    "outputId": "163b8fdd-e90c-4958-d381-1a2f5db81cec"
   },
   "outputs": [
    {
     "name": "stdout",
     "output_type": "stream",
     "text": [
      "Epoch 1/5\n",
      "52/52 [==============================] - 188s 4s/step - loss: 0.1600 - accuracy: 0.9881 - val_loss: 0.1729 - val_accuracy: 0.9823\n",
      "Epoch 2/5\n",
      "52/52 [==============================] - 188s 4s/step - loss: 0.1594 - accuracy: 0.9878 - val_loss: 0.1725 - val_accuracy: 0.9823\n",
      "Epoch 3/5\n",
      "52/52 [==============================] - 187s 4s/step - loss: 0.1596 - accuracy: 0.9880 - val_loss: 0.1721 - val_accuracy: 0.9823\n",
      "Epoch 4/5\n",
      "52/52 [==============================] - 188s 4s/step - loss: 0.1588 - accuracy: 0.9881 - val_loss: 0.1717 - val_accuracy: 0.9817\n",
      "Epoch 5/5\n",
      "52/52 [==============================] - 188s 4s/step - loss: 0.1583 - accuracy: 0.9883 - val_loss: 0.1714 - val_accuracy: 0.9817\n"
     ]
    }
   ],
   "source": [
    "history_cnn = model.fit(\n",
    "        augmented_train_ds,\n",
    "        epochs=5,  # TODO: replace with `epochs=10` here to shorten fine-tuning for tutorial if you wish\n",
    "        validation_data=pipeline_valid,  # here we are only using \n",
    "        class_weight=class_weight                        # this data to evaluate our performance\n",
    "        \n",
    ")"
   ]
  },
  {
   "cell_type": "markdown",
   "metadata": {
    "colab_type": "text",
    "id": "WUjB20rmKR06"
   },
   "source": [
    "# The model produces 99.45% accuracy so class_weight doesnot improve the accuracy in this case"
   ]
  },
  {
   "cell_type": "markdown",
   "metadata": {
    "colab_type": "text",
    "id": "o0_wjl3kQiML"
   },
   "source": [
    "# Saving the model and model weights"
   ]
  },
  {
   "cell_type": "code",
   "execution_count": null,
   "metadata": {
    "colab": {},
    "colab_type": "code",
    "id": "FQbHI9S7xFrN"
   },
   "outputs": [],
   "source": [
    "model.save_weights('/content/drive/My Drive/animal_dataset_intermediate.zip (Unzipped Files)/animal_dataset_intermediate/initial_model_5.h5')"
   ]
  },
  {
   "cell_type": "code",
   "execution_count": null,
   "metadata": {
    "colab": {
     "base_uri": "https://localhost:8080/",
     "height": 71
    },
    "colab_type": "code",
    "executionInfo": {
     "elapsed": 8481,
     "status": "ok",
     "timestamp": 1599939010272,
     "user": {
      "displayName": "Venkatesh Satagopan",
      "photoUrl": "",
      "userId": "13064517654184123278"
     },
     "user_tz": -120
    },
    "id": "N39bouaqFIpQ",
    "outputId": "20574b91-490a-4717-cf89-23c1c2f31591"
   },
   "outputs": [
    {
     "name": "stdout",
     "output_type": "stream",
     "text": [
      "INFO:tensorflow:Assets written to: /content/drive/My Drive/animal_dataset_intermediate.zip (Unzipped Files)/animal_dataset_intermediate/model_5/assets\n"
     ]
    },
    {
     "name": "stderr",
     "output_type": "stream",
     "text": [
      "INFO:tensorflow:Assets written to: /content/drive/My Drive/animal_dataset_intermediate.zip (Unzipped Files)/animal_dataset_intermediate/model_5/assets\n"
     ]
    }
   ],
   "source": [
    "export_module_dir = '/content/drive/My Drive/animal_dataset_intermediate.zip (Unzipped Files)/animal_dataset_intermediate/model_5'\n",
    "tf.saved_model.save(model, export_module_dir)"
   ]
  },
  {
   "cell_type": "markdown",
   "metadata": {
    "colab_type": "text",
    "id": "riiurOqRM0Xp"
   },
   "source": [
    "# Adding image paths as return parameter to image_dataset_from_directory\n",
    "\n",
    "https://stackoverflow.com/questions/62166588/how-to-obtain-filenames-during-prediction-while-using-tf-keras-preprocessing-ima"
   ]
  },
  {
   "cell_type": "markdown",
   "metadata": {
    "colab_type": "text",
    "id": "Sjua28HW02Vn"
   },
   "source": [
    "The reason I need image filenames because the test-dataset provided by the datafilename is not in the same order as the csv file (testing_set_animals.csv) . In order to match the predictions predicted by the model against the filenames present in csv file, we need the file names processed by the test-dataset pipeline"
   ]
  },
  {
   "cell_type": "code",
   "execution_count": 51,
   "metadata": {
    "colab": {},
    "colab_type": "code",
    "executionInfo": {
     "elapsed": 581,
     "status": "ok",
     "timestamp": 1599998795162,
     "user": {
      "displayName": "Venkatesh satagopan",
      "photoUrl": "https://lh3.googleusercontent.com/a-/AOh14GhlX847a9RTYRJHq5oJHCu_7kwtFevkzx8AdBjN=s64",
      "userId": "17840482695052468392"
     },
     "user_tz": -120
    },
    "id": "BFSYYjXa_0d_"
   },
   "outputs": [],
   "source": [
    "from __future__ import absolute_import\n",
    "from __future__ import division\n",
    "from __future__ import print_function\n",
    "\n",
    "import numpy as np\n",
    "\n",
    "from tensorflow.python.data.ops import dataset_ops\n",
    "from tensorflow.python.keras.layers.preprocessing import image_preprocessing\n",
    "from tensorflow.python.keras.preprocessing import dataset_utils\n",
    "from tensorflow.python.ops import image_ops\n",
    "from tensorflow.python.ops import io_ops\n",
    "from tensorflow.python.util.tf_export import keras_export\n",
    "\n",
    "WHITELIST_FORMATS = ('.bmp', '.gif', '.jpeg', '.jpg', '.png')\n",
    "\n",
    "## Tensorflow override method to return fname as list as well as dataset\n",
    "\n",
    "def image_dataset_from_directory(directory,\n",
    "                                 labels='inferred',\n",
    "                                 label_mode='int',\n",
    "                                 class_names=None,\n",
    "                                 color_mode='rgb',\n",
    "                                 batch_size=32,\n",
    "                                 image_size=(256, 256),\n",
    "                                 shuffle=True,\n",
    "                                 seed=None,\n",
    "                                 validation_split=None,\n",
    "                                 subset=None,\n",
    "                                 interpolation='bilinear',\n",
    "                                 follow_links=False):\n",
    "  \n",
    "  if labels != 'inferred':\n",
    "    if not isinstance(labels, (list, tuple)):\n",
    "      raise ValueError(\n",
    "          '`labels` argument should be a list/tuple of integer labels, of '\n",
    "          'the same size as the number of image files in the target '\n",
    "          'directory. If you wish to infer the labels from the subdirectory '\n",
    "          'names in the target directory, pass `labels=\"inferred\"`. '\n",
    "          'If you wish to get a dataset that only contains images '\n",
    "          '(no labels), pass `label_mode=None`.')\n",
    "    if class_names:\n",
    "      raise ValueError('You can only pass `class_names` if the labels are '\n",
    "                       'inferred from the subdirectory names in the target '\n",
    "                       'directory (`labels=\"inferred\"`).')\n",
    "  if label_mode not in {'int', 'categorical', 'binary', None}:\n",
    "    raise ValueError(\n",
    "        '`label_mode` argument must be one of \"int\", \"categorical\", \"binary\", '\n",
    "        'or None. Received: %s' % (label_mode,))\n",
    "  if color_mode == 'rgb':\n",
    "    num_channels = 3\n",
    "  elif color_mode == 'rgba':\n",
    "    num_channels = 4\n",
    "  elif color_mode == 'grayscale':\n",
    "    num_channels = 1\n",
    "  else:\n",
    "    raise ValueError(\n",
    "        '`color_mode` must be one of {\"rbg\", \"rgba\", \"grayscale\"}. '\n",
    "        'Received: %s' % (color_mode,))\n",
    "  interpolation = image_preprocessing.get_interpolation(interpolation)\n",
    "  dataset_utils.check_validation_split_arg(\n",
    "      validation_split, subset, shuffle, seed)\n",
    "\n",
    "  if seed is None:\n",
    "    seed = np.random.randint(1e6)\n",
    "  image_paths, labels, class_names = dataset_utils.index_directory(\n",
    "      directory,\n",
    "      labels,\n",
    "      formats=WHITELIST_FORMATS,\n",
    "      class_names=class_names,\n",
    "      shuffle=shuffle,\n",
    "      seed=seed,\n",
    "      follow_links=follow_links)\n",
    "\n",
    "  if label_mode == 'binary' and len(class_names) != 2:\n",
    "    raise ValueError(\n",
    "        'When passing `label_mode=\"binary\", there must exactly 2 classes. '\n",
    "        'Found the following classes: %s' % (class_names,))\n",
    "\n",
    "  image_paths, labels = dataset_utils.get_training_or_validation_split(\n",
    "      image_paths, labels, validation_split, subset)\n",
    "\n",
    "  dataset = paths_and_labels_to_dataset(\n",
    "      image_paths=image_paths,\n",
    "      image_size=image_size,\n",
    "      num_channels=num_channels,\n",
    "      labels=labels,\n",
    "      label_mode=label_mode,\n",
    "      num_classes=len(class_names),\n",
    "      interpolation=interpolation)\n",
    "  if shuffle:\n",
    "    # Shuffle locally at each iteration\n",
    "    dataset = dataset.shuffle(buffer_size=batch_size * 8, seed=seed)\n",
    "  dataset = dataset.batch(batch_size)\n",
    "  # Users may need to reference `class_names`.\n",
    "  dataset.class_names = class_names\n",
    "  return dataset, image_paths\n",
    "\n",
    "def paths_and_labels_to_dataset(image_paths,\n",
    "                                image_size,\n",
    "                                num_channels,\n",
    "                                labels,\n",
    "                                label_mode,\n",
    "                                num_classes,\n",
    "                                interpolation):\n",
    "  \"\"\"Constructs a dataset of images and labels.\"\"\"\n",
    "  # TODO(fchollet): consider making num_parallel_calls settable\n",
    "  path_ds = dataset_ops.Dataset.from_tensor_slices(image_paths)\n",
    "  img_ds = path_ds.map(\n",
    "      lambda x: path_to_image(x, image_size, num_channels, interpolation))\n",
    "  if label_mode:\n",
    "    label_ds = dataset_utils.labels_to_dataset(labels, label_mode, num_classes)\n",
    "    img_ds = dataset_ops.Dataset.zip((img_ds, label_ds))\n",
    "  return img_ds\n",
    "\n",
    "\n",
    "def path_to_image(path, image_size, num_channels, interpolation):\n",
    "  img = io_ops.read_file(path)\n",
    "  img = image_ops.decode_image(\n",
    "      img, channels=num_channels, expand_animations=False)\n",
    "  img = image_ops.resize_images_v2(img, image_size, method=interpolation)\n",
    "  img.set_shape((image_size[0], image_size[1], num_channels))\n",
    "  return img"
   ]
  },
  {
   "cell_type": "markdown",
   "metadata": {
    "colab_type": "text",
    "id": "3hJQfeRhNQ0G"
   },
   "source": [
    "# Creating Pipeline for test_images"
   ]
  },
  {
   "cell_type": "code",
   "execution_count": 52,
   "metadata": {
    "colab": {
     "base_uri": "https://localhost:8080/",
     "height": 34
    },
    "colab_type": "code",
    "executionInfo": {
     "elapsed": 504,
     "status": "ok",
     "timestamp": 1599998798182,
     "user": {
      "displayName": "Venkatesh satagopan",
      "photoUrl": "https://lh3.googleusercontent.com/a-/AOh14GhlX847a9RTYRJHq5oJHCu_7kwtFevkzx8AdBjN=s64",
      "userId": "17840482695052468392"
     },
     "user_tz": -120
    },
    "id": "PyAfsUa7VsiG",
    "outputId": "c6b4f460-b779-4b57-eaa9-d21a44f8e62d"
   },
   "outputs": [
    {
     "data": {
      "text/plain": [
       "(512, 512)"
      ]
     },
     "execution_count": 52,
     "metadata": {
      "tags": []
     },
     "output_type": "execute_result"
    }
   ],
   "source": [
    "image_size"
   ]
  },
  {
   "cell_type": "code",
   "execution_count": 53,
   "metadata": {
    "colab": {
     "base_uri": "https://localhost:8080/",
     "height": 34
    },
    "colab_type": "code",
    "executionInfo": {
     "elapsed": 710,
     "status": "ok",
     "timestamp": 1599998806281,
     "user": {
      "displayName": "Venkatesh satagopan",
      "photoUrl": "https://lh3.googleusercontent.com/a-/AOh14GhlX847a9RTYRJHq5oJHCu_7kwtFevkzx8AdBjN=s64",
      "userId": "17840482695052468392"
     },
     "user_tz": -120
    },
    "id": "cbsE80LXCDqF",
    "outputId": "14799032-f4fc-4d2c-d214-f1da1909ab94"
   },
   "outputs": [
    {
     "name": "stdout",
     "output_type": "stream",
     "text": [
      "Found 910 files belonging to 1 classes.\n"
     ]
    }
   ],
   "source": [
    "test_ds,test_paths = image_dataset_from_directory(\n",
    "    folder_path+\"testing\",\n",
    "    labels = \"inferred\",\n",
    "    label_mode = 'int',\n",
    "    seed=1400,\n",
    "    image_size=image_size,\n",
    "    batch_size=batch_size,\n",
    "    shuffle=False\n",
    ")"
   ]
  },
  {
   "cell_type": "code",
   "execution_count": 54,
   "metadata": {
    "colab": {},
    "colab_type": "code",
    "executionInfo": {
     "elapsed": 460,
     "status": "ok",
     "timestamp": 1599998809328,
     "user": {
      "displayName": "Venkatesh satagopan",
      "photoUrl": "https://lh3.googleusercontent.com/a-/AOh14GhlX847a9RTYRJHq5oJHCu_7kwtFevkzx8AdBjN=s64",
      "userId": "17840482695052468392"
     },
     "user_tz": -120
    },
    "id": "Mm4reSd5WKBp"
   },
   "outputs": [],
   "source": [
    "pipeline_test=test_ds.map(preprocess_test)"
   ]
  },
  {
   "cell_type": "code",
   "execution_count": 55,
   "metadata": {
    "colab": {},
    "colab_type": "code",
    "executionInfo": {
     "elapsed": 521,
     "status": "ok",
     "timestamp": 1599998810713,
     "user": {
      "displayName": "Venkatesh satagopan",
      "photoUrl": "https://lh3.googleusercontent.com/a-/AOh14GhlX847a9RTYRJHq5oJHCu_7kwtFevkzx8AdBjN=s64",
      "userId": "17840482695052468392"
     },
     "user_tz": -120
    },
    "id": "IQDeObJNK8eE"
   },
   "outputs": [],
   "source": [
    "#pipeline_test_aug=test_ds.map(preprocess_test_aug)"
   ]
  },
  {
   "cell_type": "markdown",
   "metadata": {
    "colab_type": "text",
    "id": "bdwsRggmNVXn"
   },
   "source": [
    "# Predict the classes"
   ]
  },
  {
   "cell_type": "code",
   "execution_count": 56,
   "metadata": {
    "colab": {},
    "colab_type": "code",
    "executionInfo": {
     "elapsed": 33373,
     "status": "ok",
     "timestamp": 1599998848105,
     "user": {
      "displayName": "Venkatesh satagopan",
      "photoUrl": "https://lh3.googleusercontent.com/a-/AOh14GhlX847a9RTYRJHq5oJHCu_7kwtFevkzx8AdBjN=s64",
      "userId": "17840482695052468392"
     },
     "user_tz": -120
    },
    "id": "suGtmMd1uwJh"
   },
   "outputs": [],
   "source": [
    "preds = model.predict(pipeline_test)\n",
    "\n"
   ]
  },
  {
   "cell_type": "code",
   "execution_count": 57,
   "metadata": {
    "colab": {},
    "colab_type": "code",
    "executionInfo": {
     "elapsed": 563,
     "status": "ok",
     "timestamp": 1599998941281,
     "user": {
      "displayName": "Venkatesh satagopan",
      "photoUrl": "https://lh3.googleusercontent.com/a-/AOh14GhlX847a9RTYRJHq5oJHCu_7kwtFevkzx8AdBjN=s64",
      "userId": "17840482695052468392"
     },
     "user_tz": -120
    },
    "id": "Y4ihMDNRvnTq"
   },
   "outputs": [],
   "source": [
    "#if using softmax activation on output layer\n",
    "predicted_labels  = np.argmax(preds,axis=1)"
   ]
  },
  {
   "cell_type": "code",
   "execution_count": null,
   "metadata": {
    "colab": {},
    "colab_type": "code",
    "id": "sV5SGDsYLC9J"
   },
   "outputs": [],
   "source": [
    "#preds_aug=model.predict(pipeline_test)"
   ]
  },
  {
   "cell_type": "code",
   "execution_count": null,
   "metadata": {
    "colab": {},
    "colab_type": "code",
    "id": "tAuOKw9pLHvG"
   },
   "outputs": [],
   "source": [
    "#predicted_labels_aug=np.argmax(preds_aug,axis=1)"
   ]
  },
  {
   "cell_type": "code",
   "execution_count": null,
   "metadata": {
    "colab": {},
    "colab_type": "code",
    "id": "-qemvgAvTV5X"
   },
   "outputs": [],
   "source": [
    "#predicted_labels-predicted_labels_aug"
   ]
  },
  {
   "cell_type": "markdown",
   "metadata": {
    "colab_type": "text",
    "id": "DW9jiicNQuzt"
   },
   "source": [
    "# Open the submission file"
   ]
  },
  {
   "cell_type": "code",
   "execution_count": 58,
   "metadata": {
    "colab": {},
    "colab_type": "code",
    "executionInfo": {
     "elapsed": 548,
     "status": "ok",
     "timestamp": 1599998946008,
     "user": {
      "displayName": "Venkatesh satagopan",
      "photoUrl": "https://lh3.googleusercontent.com/a-/AOh14GhlX847a9RTYRJHq5oJHCu_7kwtFevkzx8AdBjN=s64",
      "userId": "17840482695052468392"
     },
     "user_tz": -120
    },
    "id": "2evTWa6ivoSG"
   },
   "outputs": [],
   "source": [
    "df=pd.read_csv('/content/animal_dataset_intermediate/Testing_set_animals.csv')"
   ]
  },
  {
   "cell_type": "code",
   "execution_count": 59,
   "metadata": {
    "colab": {},
    "colab_type": "code",
    "executionInfo": {
     "elapsed": 514,
     "status": "ok",
     "timestamp": 1599998947039,
     "user": {
      "displayName": "Venkatesh satagopan",
      "photoUrl": "https://lh3.googleusercontent.com/a-/AOh14GhlX847a9RTYRJHq5oJHCu_7kwtFevkzx8AdBjN=s64",
      "userId": "17840482695052468392"
     },
     "user_tz": -120
    },
    "id": "Dd3344-rCS3h"
   },
   "outputs": [],
   "source": [
    "temp_df=df.copy()"
   ]
  },
  {
   "cell_type": "code",
   "execution_count": 60,
   "metadata": {
    "colab": {},
    "colab_type": "code",
    "executionInfo": {
     "elapsed": 970,
     "status": "ok",
     "timestamp": 1599998948395,
     "user": {
      "displayName": "Venkatesh satagopan",
      "photoUrl": "https://lh3.googleusercontent.com/a-/AOh14GhlX847a9RTYRJHq5oJHCu_7kwtFevkzx8AdBjN=s64",
      "userId": "17840482695052468392"
     },
     "user_tz": -120
    },
    "id": "0vHalkLoDnz3"
   },
   "outputs": [],
   "source": [
    "for i, val in enumerate(test_paths):\n",
    "  temp_df.iloc[i,0]=val"
   ]
  },
  {
   "cell_type": "code",
   "execution_count": 61,
   "metadata": {
    "colab": {},
    "colab_type": "code",
    "executionInfo": {
     "elapsed": 536,
     "status": "ok",
     "timestamp": 1599998949909,
     "user": {
      "displayName": "Venkatesh satagopan",
      "photoUrl": "https://lh3.googleusercontent.com/a-/AOh14GhlX847a9RTYRJHq5oJHCu_7kwtFevkzx8AdBjN=s64",
      "userId": "17840482695052468392"
     },
     "user_tz": -120
    },
    "id": "jnL6hwYwvvMY"
   },
   "outputs": [],
   "source": [
    "temp_df['target']=predicted_labels"
   ]
  },
  {
   "cell_type": "code",
   "execution_count": 62,
   "metadata": {
    "colab": {
     "base_uri": "https://localhost:8080/",
     "height": 69
    },
    "colab_type": "code",
    "executionInfo": {
     "elapsed": 598,
     "status": "ok",
     "timestamp": 1599998951116,
     "user": {
      "displayName": "Venkatesh satagopan",
      "photoUrl": "https://lh3.googleusercontent.com/a-/AOh14GhlX847a9RTYRJHq5oJHCu_7kwtFevkzx8AdBjN=s64",
      "userId": "17840482695052468392"
     },
     "user_tz": -120
    },
    "id": "ty5lFUQrzTv7",
    "outputId": "73adfc17-f863-4553-8c25-a2329e427905"
   },
   "outputs": [
    {
     "data": {
      "application/vnd.google.colaboratory.intrinsic+json": {
       "type": "string"
      },
      "text/plain": [
       "' def plot_sample_output(df):\\n  for i in range(9):\\n        ax = plt.subplot(3, 3, i + 1)\\n        img=cv2.imread(folder_path+\\'testing/test/\\'+df[\\'filename\\'][i])\\n        plt.imshow(img)\\n        #plt.title(int(labels[i]))\\n        plt.axis(\"off\")'"
      ]
     },
     "execution_count": 62,
     "metadata": {
      "tags": []
     },
     "output_type": "execute_result"
    }
   ],
   "source": [
    "''' def plot_sample_output(df):\n",
    "  for i in range(9):\n",
    "        ax = plt.subplot(3, 3, i + 1)\n",
    "        img=cv2.imread(folder_path+'testing/test/'+df['filename'][i])\n",
    "        plt.imshow(img)\n",
    "        #plt.title(int(labels[i]))\n",
    "        plt.axis(\"off\")'''"
   ]
  },
  {
   "cell_type": "code",
   "execution_count": 65,
   "metadata": {
    "colab": {},
    "colab_type": "code",
    "executionInfo": {
     "elapsed": 1048,
     "status": "ok",
     "timestamp": 1599999046949,
     "user": {
      "displayName": "Venkatesh satagopan",
      "photoUrl": "https://lh3.googleusercontent.com/a-/AOh14GhlX847a9RTYRJHq5oJHCu_7kwtFevkzx8AdBjN=s64",
      "userId": "17840482695052468392"
     },
     "user_tz": -120
    },
    "id": "-kXBFNt2GCgQ"
   },
   "outputs": [],
   "source": [
    "def plot_sample_output_check(df,class_name=None):\n",
    "  for i in range(9):\n",
    "        ax = plt.subplot(3, 3, i + 1)\n",
    "        img=cv2.imread(df['filename'][i])\n",
    "        plt.imshow(img)\n",
    "        plt.title(labels[class_name])\n",
    "        plt.axis(\"off\")"
   ]
  },
  {
   "cell_type": "code",
   "execution_count": 66,
   "metadata": {
    "colab": {},
    "colab_type": "code",
    "executionInfo": {
     "elapsed": 542,
     "status": "ok",
     "timestamp": 1599999050193,
     "user": {
      "displayName": "Venkatesh satagopan",
      "photoUrl": "https://lh3.googleusercontent.com/a-/AOh14GhlX847a9RTYRJHq5oJHCu_7kwtFevkzx8AdBjN=s64",
      "userId": "17840482695052468392"
     },
     "user_tz": -120
    },
    "id": "aXTgVIRUGIcJ"
   },
   "outputs": [],
   "source": [
    "check_class_0=temp_df.loc[temp_df['target']==0].reset_index(drop=True)"
   ]
  },
  {
   "cell_type": "code",
   "execution_count": 67,
   "metadata": {
    "colab": {},
    "colab_type": "code",
    "executionInfo": {
     "elapsed": 539,
     "status": "ok",
     "timestamp": 1599999051457,
     "user": {
      "displayName": "Venkatesh satagopan",
      "photoUrl": "https://lh3.googleusercontent.com/a-/AOh14GhlX847a9RTYRJHq5oJHCu_7kwtFevkzx8AdBjN=s64",
      "userId": "17840482695052468392"
     },
     "user_tz": -120
    },
    "id": "aiAag_V9GW6Q"
   },
   "outputs": [],
   "source": [
    "check_class_1=temp_df.loc[temp_df['target']==1].reset_index(drop=True)\n",
    "check_class_2=temp_df.loc[temp_df['target']==2].reset_index(drop=True)\n",
    "check_class_3=temp_df.loc[temp_df['target']==3].reset_index(drop=True)\n",
    "check_class_4=temp_df.loc[temp_df['target']==4].reset_index(drop=True)"
   ]
  },
  {
   "cell_type": "code",
   "execution_count": null,
   "metadata": {
    "colab": {
     "base_uri": "https://localhost:8080/",
     "height": 264
    },
    "colab_type": "code",
    "executionInfo": {
     "elapsed": 1565,
     "status": "ok",
     "timestamp": 1599999097082,
     "user": {
      "displayName": "Venkatesh satagopan",
      "photoUrl": "https://lh3.googleusercontent.com/a-/AOh14GhlX847a9RTYRJHq5oJHCu_7kwtFevkzx8AdBjN=s64",
      "userId": "17840482695052468392"
     },
     "user_tz": -120
    },
    "id": "vabgOcboYHJc",
    "outputId": "9e90f40d-3b14-4c6c-a8f7-6c2fe87e399c"
   },
   "outputs": [],
   "source": [
    "plot_sample_output_check(check_class_0,class_name=0)"
   ]
  },
  {
   "cell_type": "code",
   "execution_count": null,
   "metadata": {
    "colab": {
     "base_uri": "https://localhost:8080/",
     "height": 264
    },
    "colab_type": "code",
    "executionInfo": {
     "elapsed": 1124,
     "status": "ok",
     "timestamp": 1599999061957,
     "user": {
      "displayName": "Venkatesh satagopan",
      "photoUrl": "https://lh3.googleusercontent.com/a-/AOh14GhlX847a9RTYRJHq5oJHCu_7kwtFevkzx8AdBjN=s64",
      "userId": "17840482695052468392"
     },
     "user_tz": -120
    },
    "id": "fRa_96eOGfW9",
    "outputId": "13de3c74-5c22-43b0-ce67-0b2afdeaab52"
   },
   "outputs": [],
   "source": [
    "plot_sample_output_check(check_class_4,class_name=4)"
   ]
  },
  {
   "cell_type": "markdown",
   "metadata": {
    "colab_type": "text",
    "id": "123oT-VmQ7tC"
   },
   "source": [
    "# Procedure to assign target class by comparing filenames in temp_df and df "
   ]
  },
  {
   "cell_type": "code",
   "execution_count": null,
   "metadata": {
    "colab": {},
    "colab_type": "code",
    "id": "iWQ3iGF7CU89"
   },
   "outputs": [],
   "source": [
    "for i, val in enumerate(temp_df['filename']):\n",
    "  for t,j in enumerate(df['filename']):\n",
    "    if val.split('/')[-1]==j:\n",
    "      df.iloc[t,1]=temp_df.iloc[i,1]\n",
    "      \n",
    "    "
   ]
  },
  {
   "cell_type": "code",
   "execution_count": null,
   "metadata": {
    "colab": {
     "base_uri": "https://localhost:8080/",
     "height": 204
    },
    "colab_type": "code",
    "executionInfo": {
     "elapsed": 634,
     "status": "ok",
     "timestamp": 1599947591299,
     "user": {
      "displayName": "Venkatesh Satagopan",
      "photoUrl": "",
      "userId": "13064517654184123278"
     },
     "user_tz": -120
    },
    "id": "ickztv1lDAGw",
    "outputId": "adbea7f0-f8b0-4085-87ec-d80093f833b9"
   },
   "outputs": [
    {
     "data": {
      "text/html": [
       "<div>\n",
       "<style scoped>\n",
       "    .dataframe tbody tr th:only-of-type {\n",
       "        vertical-align: middle;\n",
       "    }\n",
       "\n",
       "    .dataframe tbody tr th {\n",
       "        vertical-align: top;\n",
       "    }\n",
       "\n",
       "    .dataframe thead th {\n",
       "        text-align: right;\n",
       "    }\n",
       "</style>\n",
       "<table border=\"1\" class=\"dataframe\">\n",
       "  <thead>\n",
       "    <tr style=\"text-align: right;\">\n",
       "      <th></th>\n",
       "      <th>filename</th>\n",
       "      <th>target</th>\n",
       "    </tr>\n",
       "  </thead>\n",
       "  <tbody>\n",
       "    <tr>\n",
       "      <th>0</th>\n",
       "      <td>e030b20928e90021d85a5854ee454296eb70e3c818b413...</td>\n",
       "      <td>1.0</td>\n",
       "    </tr>\n",
       "    <tr>\n",
       "      <th>1</th>\n",
       "      <td>e030b20929e90021d85a5854ee454296eb70e3c818b413...</td>\n",
       "      <td>1.0</td>\n",
       "    </tr>\n",
       "    <tr>\n",
       "      <th>2</th>\n",
       "      <td>e030b2092be90021d85a5854ee454296eb70e3c818b413...</td>\n",
       "      <td>1.0</td>\n",
       "    </tr>\n",
       "    <tr>\n",
       "      <th>3</th>\n",
       "      <td>e030b2092ce90021d85a5854ee454296eb70e3c818b413...</td>\n",
       "      <td>1.0</td>\n",
       "    </tr>\n",
       "    <tr>\n",
       "      <th>4</th>\n",
       "      <td>e030b2092de90021d85a5854ee454296eb70e3c818b413...</td>\n",
       "      <td>1.0</td>\n",
       "    </tr>\n",
       "  </tbody>\n",
       "</table>\n",
       "</div>"
      ],
      "text/plain": [
       "                                            filename  target\n",
       "0  e030b20928e90021d85a5854ee454296eb70e3c818b413...     1.0\n",
       "1  e030b20929e90021d85a5854ee454296eb70e3c818b413...     1.0\n",
       "2  e030b2092be90021d85a5854ee454296eb70e3c818b413...     1.0\n",
       "3  e030b2092ce90021d85a5854ee454296eb70e3c818b413...     1.0\n",
       "4  e030b2092de90021d85a5854ee454296eb70e3c818b413...     1.0"
      ]
     },
     "execution_count": 188,
     "metadata": {
      "tags": []
     },
     "output_type": "execute_result"
    }
   ],
   "source": [
    "df.head()"
   ]
  },
  {
   "cell_type": "code",
   "execution_count": null,
   "metadata": {
    "colab": {},
    "colab_type": "code",
    "id": "UNU1nA_pJFe8"
   },
   "outputs": [],
   "source": [
    "df['target']=df['target'].apply(lambda x: 'elefante' if x==0 else 'farfalla' if x==1 else 'mucca' if x==2 else   'pecora' if x==3 else 'scoiattolo')"
   ]
  },
  {
   "cell_type": "code",
   "execution_count": null,
   "metadata": {
    "colab": {},
    "colab_type": "code",
    "id": "H9DlPvX5v3ae"
   },
   "outputs": [],
   "source": [
    "df.to_csv('/content/drive/My Drive/animal_dataset_intermediate.zip (Unzipped Files)/animal_dataset_intermediate/final_df_8.csv',index=False)"
   ]
  },
  {
   "cell_type": "markdown",
   "metadata": {
    "colab_type": "text",
    "id": "RD7QgW_6UEDy"
   },
   "source": [
    "# Conclusion"
   ]
  },
  {
   "cell_type": "markdown",
   "metadata": {
    "colab_type": "text",
    "id": "HMYQ7U-uUGhI"
   },
   "source": [
    "ANN performs worst compared to CNN models for image classification task\n",
    "\n",
    "Things I have tried in the CNN part were\n",
    "1. Tried with image-resize (160x160x3) and randomly cropping (128x128x3) for training. This after trained for 10 epochs with fine-tuning has yield me a accuracy of 98.6% accuracy on the test-dataset\n",
    "2. Next I have tried with image-size(512x512x3) and randomly cropping(480x480x3). The CNN model trained with this image size achieves me 99.45% accuracy on the test-dataset after 10 epochs.\n",
    "\n",
    "\n",
    "Regarding hyper-parameter optimization\n",
    "I have used initially SGD with momentum which provides me an accuracy of 99.34% accuracy . I changed the optimizer which got me an accuracy boost of 0.10% in the test-data\n",
    "\n",
    "\n",
    "\n",
    "I also tried class-weight parameter(to handle little imbalance), adding more data augmentation techniques (like rot the image flip upside down) apart from the flight-left-right technique but it doesnot help me in increasing the accuracy when I tried for another 10 epochs."
   ]
  },
  {
   "cell_type": "code",
   "execution_count": null,
   "metadata": {
    "colab": {},
    "colab_type": "code",
    "id": "HV41YtW_JhCQ"
   },
   "outputs": [],
   "source": []
  }
 ],
 "metadata": {
  "accelerator": "GPU",
  "colab": {
   "collapsed_sections": [],
   "name": "Animal_dataset.ipynb",
   "provenance": [
    {
     "file_id": "1oCS8OYoXCOcSxsOhx6LfW9nSLhM7MWw3",
     "timestamp": 1599863063462
    }
   ]
  },
  "kernelspec": {
   "display_name": "Python 3",
   "language": "python",
   "name": "python3"
  },
  "language_info": {
   "codemirror_mode": {
    "name": "ipython",
    "version": 3
   },
   "file_extension": ".py",
   "mimetype": "text/x-python",
   "name": "python",
   "nbconvert_exporter": "python",
   "pygments_lexer": "ipython3",
   "version": "3.8.3"
  }
 },
 "nbformat": 4,
 "nbformat_minor": 1
}
