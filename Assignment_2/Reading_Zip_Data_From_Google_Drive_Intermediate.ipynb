{
  "nbformat": 4,
  "nbformat_minor": 0,
  "metadata": {
    "colab": {
      "name": "Reading Zip Data From Google Drive- Intermediate.ipynb",
      "provenance": [],
      "collapsed_sections": [],
      "include_colab_link": true
    },
    "kernelspec": {
      "name": "python3",
      "display_name": "Python 3"
    }
  },
  "cells": [
    {
      "cell_type": "markdown",
      "metadata": {
        "id": "view-in-github",
        "colab_type": "text"
      },
      "source": [
        "<a href=\"https://colab.research.google.com/github/dphi-official/Deep_Learning_Bootcamp/blob/master/Assignment_2/Reading_Zip_Data_From_Google_Drive_Intermediate.ipynb\" target=\"_parent\"><img src=\"https://colab.research.google.com/assets/colab-badge.svg\" alt=\"Open In Colab\"/></a>"
      ]
    },
    {
      "cell_type": "markdown",
      "metadata": {
        "id": "brn8uvkKoPam",
        "colab_type": "text"
      },
      "source": [
        "1. Download the zip file from https://drive.google.com/file/d/176E-pLhoxTgWsJ3MeoJQV_GXczIA6g8D/view?usp=sharing\n",
        "2. Upload the zip file to your Google Drive\n",
        "3. After above two steps execute below codes:"
      ]
    },
    {
      "cell_type": "code",
      "metadata": {
        "id": "46YGDGbvoOLm",
        "colab_type": "code",
        "colab": {}
      },
      "source": [
        "!unzip -q \"/content/drive/My Drive/animal_dataset_intermediate.zip\""
      ],
      "execution_count": null,
      "outputs": []
    },
    {
      "cell_type": "markdown",
      "metadata": {
        "id": "WCM1t3TCqU_c",
        "colab_type": "text"
      },
      "source": [
        "4. Now you have your dataset available in Google Colab environment.\n",
        "5. Using for loop and the path from 'files' you can read all the images in the notebook."
      ]
    },
    {
      "cell_type": "markdown",
      "metadata": {
        "id": "20GLMXKkiyez",
        "colab_type": "text"
      },
      "source": [
        "There is one OpenCV function that'll help you read an image and get its pixel values. Maybe you can then loop through all the images and store their pixel values together?"
      ]
    }
  ]
}